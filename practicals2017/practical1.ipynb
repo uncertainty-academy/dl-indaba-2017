{
 "cells": [
  {
   "cell_type": "markdown",
   "metadata": {
    "colab_type": "text",
    "id": "JVvNUpj6ZKmM"
   },
   "source": [
    "# DL Indaba Practical 1\n",
    "# From linear to non-linear models\n",
    "*Developed by Stephan Gouws, Avishkar Bhoopchand & Ulrich Paquet.*\n",
    "\n",
    "**Introduction**\n",
    "\n",
    "In this practical we will develop our intuition of machine learning models, and implement a linear and non-linear model from scratch that can classify a variant of the classic \"swiss roll\" dataset. We will then show how to do the same using the TensorFlow framework.\n",
    "\n",
    "**Learning objectives**:\n",
    "* Understand how the different ML components (data, model parameters, loss functions) work together.\n",
    "* Understand the intuition of gradient-based optimization.\n",
    "* Be able to derive gradients of the softmax loss wrt output dL/dOut, and wrt the model parameters dL/dW.\n",
    "* Understand what is meant by a decision boundary & how it visualizes the models predictions.\n",
    "* Understand the basics of TensorFlow, especially:\n",
    "    * the computation graph abstraction (define-**and**-run vs define-**by**-run),\n",
    "    * how TensorFlow can automatically derive gradients (relate it to the graph abstraction).\n",
    "\n",
    "**What is expected of you:**\n",
    "* Step through the cells and discuss the questions with your lab partner.\n",
    "* Fill in the missing code sections (\"# IMPLEMENT-ME\") by pair-programming with your partner.\n",
    "* Change the values for $w$ and $\\alpha$, try out different regularization strengths, look at and discuss the decision boundaries.\n",
    "* 5min before the end, pair up with someone else and explain the concepts from the Learning Objectives (above) to each other, and ask the tutors if you are stuck.\n",
    "    "
   ]
  },
  {
   "cell_type": "markdown",
   "metadata": {
    "colab_type": "text",
    "id": "j9-CLiXs36tt"
   },
   "source": [
    "# Building Intuitions: Our First Classifier on Simple Toy Data\n",
    "\n",
    "Run the code in the cell below, and look at the resulting plot. It should produce a simple 2D data set consisting of 2 classes of points, a weight vector in black, and a decision boundary in red. The goal is to obtain a decision boundary that best separates the different classes of points."
   ]
  },
  {
   "cell_type": "code",
   "execution_count": 4,
   "metadata": {
    "colab": {
     "autoexec": {
      "startup": false,
      "wait_interval": 0
     },
     "height": 514,
     "output_extras": [
      {
       "item_id": 1
      }
     ]
    },
    "colab_type": "code",
    "executionInfo": {
     "elapsed": 770,
     "status": "ok",
     "timestamp": 1504366737227,
     "user": {
      "displayName": "Stephan Gouws",
      "photoUrl": "//lh4.googleusercontent.com/-6znVyM1oxdg/AAAAAAAAAAI/AAAAAAAAABI/vEPo2Ce7Rpc/s50-c-k-no/photo.jpg",
      "userId": "102606466886131565871"
     },
     "user_tz": -60
    },
    "id": "Kx2JGMPS3_4O",
    "outputId": "cc3fb57c-e77d-4bf9-fd48-6d44890e540f"
   },
   "outputs": [
    {
     "data": {
      "image/png": "[encoded data removed]",
      "text/plain": [
       "<Figure size 432x288 with 1 Axes>"
      ]
     },
     "metadata": {},
     "output_type": "display_data"
    }
   ],
   "source": [
    "import numpy as np                 # Numpy is an efficient linear algebra library.\n",
    "import scipy.stats\n",
    "import matplotlib.pyplot as plt    # Matplotlib is used to generate plots of data.\n",
    "\n",
    "centre = 1.0\n",
    "points_in_class = 20\n",
    "# Setting a random seed allows us to recreate the same data each time we run the cell.\n",
    "np.random.seed(0)\n",
    "\n",
    "# Generate random points in the \"positive\" class\n",
    "x_pos = np.random.normal(loc=centre, scale=1.0, size=[points_in_class, 2])     \n",
    "# Generate random points in the \"negative\" class\n",
    "x_neg = np.random.normal(loc=-centre, scale=1.0, size=[points_in_class, 2])    \n",
    "# Put these together\n",
    "x = np.concatenate((x_pos, x_neg), axis=0) \n",
    "    \n",
    "# The class (or \"y\") value is +1 or -1 for the two classes\n",
    "y_pos = np.ones(points_in_class)    \n",
    "y_neg = - np.ones(points_in_class)\n",
    "y = np.concatenate((y_pos, y_neg), axis=0)\n",
    "\n",
    "# N is the total data set size\n",
    "N = 2 * points_in_class\n",
    "\n",
    "# Plot the data using Matplotlib\n",
    "fig = plt.figure()    \n",
    "plt.scatter(x[:, 0], x[:, 1], c=y, s=40)\n",
    "plt.axis('equal')\n",
    "\n",
    "# Pick a weight vector. In the exercise below, you are going to change the\n",
    "# values in this weight vector to see how the decision boundary changes.\n",
    "\n",
    "w = [1.5, 1.6]    # CHANGE ME!! \n",
    "\n",
    "# Add the weight vector to the plot.\n",
    "plt.plot([0, w[0]], [0, w[1]], 'k-')\n",
    "plt.scatter([0], [w[0]], s=40)\n",
    "plt.scatter([0], [w[1]], s=40)\n",
    "\n",
    "# Plot part of the decision boundary in red. It is orthogonal to the weight vector.\n",
    "t = 2\n",
    "plt.plot([-t * w[1], t * w[1]], [t * w[0], -t * w[0]], 'r-')\n",
    "\n",
    "# Add some labels to the plot and display it\n",
    "plt.xlabel('x0')\n",
    "plt.ylabel('x1')\n",
    "plt.show()"
   ]
  },
  {
   "cell_type": "markdown",
   "metadata": {
    "colab_type": "text",
    "id": "OidhcGh6xtwN"
   },
   "source": [
    "# What do parameters do?\n",
    "\n",
    "* Change the line `w = [0.5, 1.6]` to use different values, and re-run the above code.\n",
    "\n",
    "* How does the decision boundary (the red line) change?\n",
    "\n",
    "* For what values of $x_0$ and $x_1$ is the inner product between $w$ and $x$ positive? negative? zero?\n",
    " * Can you relate this to the decision boundary? \n",
    " * Can you use this to determine the class labels $y$?\n",
    "\n",
    "* By changing $w$, can you manually find a weight vector that does a good job of discriminating between the two classes?\n",
    "    * How did you manually find it? What made you move from one choice to the next?\n",
    "\n",
    "* Now that you've found it manually, chat with your friend next to you.\n",
    "    * How will you find it automatically?\n",
    "    * Can you devise a function, where minimizing it does the same thing as the way you manually searched?\n",
    "    * Pause here and think.\n",
    "        * Which values of $w$ give \"bad solutions\", according to you?\n",
    "        * Which ones give good solutions?\n",
    "\n",
    "* Try to draw the function that you devised on a piece of paper. It should be small when $w$ gives a \"good solution\", and it should be big when $w$ gives a \"bad solution\". Be creative and think of your own function. Show your drawing to your neighbour.\n",
    "\n",
    "DO NOT PROCEED ANY FURTHER UNTIL YOU'VE THOROUGHLY ATTEMPTED ALL THE ABOVE QUESTIONS. (Ask your tutors for help if you're stuck!)"
   ]
  },
  {
   "cell_type": "markdown",
   "metadata": {
    "colab_type": "text",
    "id": "c58IjWnlyMh2"
   },
   "source": [
    "# A loss function of w\n",
    "\n",
    "* Below we will formulate the above as a **loss function**.\n",
    "\n",
    "* Run the code below, and look at the plot of the loss function. Note that it is not in x-space (***data***) any more, but that our axis labels are w[0] and w[1] (***parameters***)!\n",
    "\n",
    "* Are the weights $w$ that you found manually close to the minimum of the loss function?\n"
   ]
  },
  {
   "cell_type": "code",
   "execution_count": 5,
   "metadata": {
    "colab": {
     "autoexec": {
      "startup": false,
      "wait_interval": 0
     },
     "height": 524,
     "output_extras": [
      {
       "item_id": 1
      }
     ]
    },
    "colab_type": "code",
    "executionInfo": {
     "elapsed": 841,
     "status": "ok",
     "timestamp": 1504366743571,
     "user": {
      "displayName": "Stephan Gouws",
      "photoUrl": "//lh4.googleusercontent.com/-6znVyM1oxdg/AAAAAAAAAAI/AAAAAAAAABI/vEPo2Ce7Rpc/s50-c-k-no/photo.jpg",
      "userId": "102606466886131565871"
     },
     "user_tz": -60
    },
    "id": "oFSdDg89xBW4",
    "outputId": "ae131b29-955f-4ff1-bf3c-ae595ed85f45"
   },
   "outputs": [
    {
     "data": {
      "image/png": "[encoded data removed]",
      "text/plain": [
       "<Figure size 432x288 with 2 Axes>"
      ]
     },
     "metadata": {},
     "output_type": "display_data"
    }
   ],
   "source": [
    "def compute_loss(w0, w1, x, y, alpha):\n",
    "    # We start with a regularizer.\n",
    "    \n",
    "    # What is its effects on the loss function? Does it change the loss function's\n",
    "    # minimum?\n",
    "    \n",
    "    # Note: In this practical we won't see too much benefit from this as we don't\n",
    "    # have a    separate test set, but it is good practice to include one and will \n",
    "    # become very important soon enough!\n",
    "    \n",
    "    loss = alpha * (w0 * w0 + w1 * w1)\n",
    "    \n",
    "    # Add the data point's contribution to the loss. We do this for every data\n",
    "    # point. (We don't have to do it in a for-loop, but below, you can really see\n",
    "    # what is happening...)\n",
    "    for n in range(N):\n",
    "        \n",
    "        # Get the inner product x' * w for data point x.\n",
    "        inner = w0 * x[n, 0] + w1 * x[n, 1]\n",
    "        \n",
    "        # Now look at the plot with a weight vector in our \"data space\".\n",
    "        loss += np.log(1 + np.exp(- y[n] * inner))\n",
    "    \n",
    "    return loss\n",
    "    \n",
    "lim = 5\n",
    "ind = np.linspace(-lim, lim, 50)\n",
    "w0, w1 = np.meshgrid(ind, ind)\n",
    "\n",
    "# You will change the value of alpha (below), to see how the loss function\n",
    "# changes. It has to be alpha >= 0. No negative values (otherwise the loss\n",
    "# function's minimum is at negative infinity)!\n",
    "alpha = 0.001\n",
    "loss = compute_loss(w0, w1, x, y, alpha)\n",
    "\n",
    "fig = plt.figure()\n",
    "plt.contourf(w0, w1, np.exp(-loss), 20, cmap=plt.cm.jet)\n",
    "cbar = plt.colorbar()\n",
    "# We plot exp(-1oss) here, to let the colours show clearly in the plot. This is\n",
    "# incidentally also proportional to the joint distribution\n",
    "# p(y, w | x) = p(y | x, w) p(w), which you'll encounter on Wednesday in the\n",
    "# Indaba, and can safely ignore for now.\n",
    "plt.title('A plot of exp(-loss), as a function of weight vector [w0, w1]; '\n",
    "                    + 'alpha = ' + str(alpha))\n",
    "plt.xlabel('w0')\n",
    "plt.ylabel('w1')\n",
    "plt.axis('equal')\n",
    "plt.show()"
   ]
  },
  {
   "cell_type": "markdown",
   "metadata": {
    "colab_type": "text",
    "id": "ViYDcDH1cbx3"
   },
   "source": [
    "# Trying different loss functions\n",
    "\n",
    "* As a first exercise, look at the function that computes the loss. There is a for-loop, essentially a sum.\n",
    "    * Can you write down the loss function on a piece of paper? As a mathematical expression...\n",
    "    \n",
    "* On a piece of paper, can you draw\n",
    "                log(1 + exp(- y[n] * inner))\n",
    "    as a function of the inner product, the value of $y$, etc.\n",
    "    * When is it almost zero, and the contribution to the loss is neglible?\n",
    "    * Where does it become almost linear?\n",
    "        \n",
    "        After you've done your drawings, explain to yourself why the function is equivalent to\n",
    "                inner = y[n] * (w0 * x[n, 0] + w1 * x[n, 1])     \n",
    "                loss += np.log(1 + np.exp(- inner))\n",
    "        What is the effect of the class label $y$ on the weight vector. What happens if we multiply a weight vector with -1?\n",
    "\n",
    "* Now change the setting of alpha. Make it bigger, and smaller. What happens to the minimum?"
   ]
  },
  {
   "cell_type": "markdown",
   "metadata": {
    "colab_type": "text",
    "id": "hwxeymnrToNF"
   },
   "source": [
    "# Working with More Complex Data\n",
    "\n",
    "Real-world data is unfortunately not as simple as our toy bimodal Gaussian example above. Real data (e.g. pixels from vision, or speech phonemes, or words of a language) can have very complex, high-dimensional distributions. Before we get our hands dirty with that, we'll move one step up and work with another toy dataset, but this time non-linear."
   ]
  },
  {
   "cell_type": "code",
   "execution_count": 6,
   "metadata": {
    "colab": {
     "autoexec": {
      "startup": false,
      "wait_interval": 0
     },
     "height": 51,
     "output_extras": [
      {
       "item_id": 1
      }
     ]
    },
    "colab_type": "code",
    "executionInfo": {
     "elapsed": 377,
     "status": "ok",
     "timestamp": 1504364165949,
     "user": {
      "displayName": "Stephan Gouws",
      "photoUrl": "//lh4.googleusercontent.com/-6znVyM1oxdg/AAAAAAAAAAI/AAAAAAAAABI/vEPo2Ce7Rpc/s50-c-k-no/photo.jpg",
      "userId": "102606466886131565871"
     },
     "user_tz": -60
    },
    "id": "T0eBZ4aq2IH2",
    "outputId": "e72c0bb3-fc30-4434-9260-5a72ac7968ea"
   },
   "outputs": [
    {
     "name": "stdout",
     "output_type": "stream",
     "text": [
      "The autoreload extension is already loaded. To reload it, use:\n",
      "  %reload_ext autoreload\n"
     ]
    }
   ],
   "source": [
    "import numpy as np    # Numpy is an efficient linear algebra library.\n",
    "import matplotlib.pyplot as plt    # Matplotlib is used to generate plots of data.\n",
    "\n",
    "def reset_matplotlib():\n",
    "    %matplotlib inline\n",
    "    plt.rcParams['figure.figsize'] = (10.0, 8.0) # set default size of plots\n",
    "    plt.rcParams['image.interpolation'] = 'nearest'\n",
    "    plt.rcParams['image.cmap'] = 'gray'\n",
    "\n",
    "reset_matplotlib()\n",
    "# for auto-reloading external modules\n",
    "# (if you're curious, see http://stackoverflow.com/questions/1907993/autoreload-of-modules-in-ipython)\n",
    "%load_ext autoreload\n",
    "%autoreload 2"
   ]
  },
  {
   "cell_type": "markdown",
   "metadata": {
    "colab_type": "text",
    "id": "nlzlDave2e8K"
   },
   "source": [
    "Let's generate a dataset with three spirals arranged in a swiss-roll type structure, and where each spiral forms a \"class\" that we want to be able to classify (i.e. the classes are very non-linearly distributed).\n",
    "\n",
    "## Hyperparameters\n",
    "\n",
    "First we define some hyperparameters that will be used by the next few cells. Try changing these values to see how the models work with different data."
   ]
  },
  {
   "cell_type": "code",
   "execution_count": 7,
   "metadata": {
    "colab": {
     "autoexec": {
      "startup": false,
      "wait_interval": 0
     }
    },
    "colab_type": "code",
    "id": "O3WJV8EI-4xp"
   },
   "outputs": [],
   "source": [
    "num_classes = 3    # The number of classes (distinct groups) of data (these are our \"y\" values)\n",
    "dimensions = 2    # The number of dimensions of our input or \"X\" values\n",
    "points_per_class = 100    # number of X points to generate for each of the y values"
   ]
  },
  {
   "cell_type": "code",
   "execution_count": 8,
   "metadata": {
    "colab": {
     "autoexec": {
      "startup": false,
      "wait_interval": 0
     },
     "height": 499,
     "output_extras": [
      {
       "item_id": 1
      }
     ]
    },
    "colab_type": "code",
    "executionInfo": {
     "elapsed": 712,
     "status": "ok",
     "timestamp": 1504366756191,
     "user": {
      "displayName": "Stephan Gouws",
      "photoUrl": "//lh4.googleusercontent.com/-6znVyM1oxdg/AAAAAAAAAAI/AAAAAAAAABI/vEPo2Ce7Rpc/s50-c-k-no/photo.jpg",
      "userId": "102606466886131565871"
     },
     "user_tz": -60
    },
    "id": "gGuvwWo72eFH",
    "outputId": "f8b67840-35c4-4d17-c1d1-f120e0a34f49"
   },
   "outputs": [
    {
     "data": {
      "image/png": "[encoded data removed]",
      "text/plain": [
       "<Figure size 720x576 with 1 Axes>"
      ]
     },
     "metadata": {},
     "output_type": "display_data"
    }
   ],
   "source": [
    "# Setting a random seed allows us to get the exact same data each time we run \n",
    "# the cell.\n",
    "np.random.seed(0)    \n",
    "\n",
    "def generate_spiral_data(num_classes, dimensions, points_per_class):\n",
    "    \"\"\"Generate `num_classes` spirals with `points_per_class` points per spiral.\"\"\"\n",
    "    \n",
    "    X = np.zeros((points_per_class*num_classes, dimensions), dtype='float32')    # Create an empty matrix to hold our X values\n",
    "    y = np.zeros(points_per_class*num_classes, dtype='uint8')    # Create an empty vector to hold our y values\n",
    "\n",
    "    for y_value in range(num_classes):     # Generate data for each class\n",
    "        ix = range(points_per_class*y_value, points_per_class*(y_value+1))    # The indices in X and y where we will save this class of data\n",
    "\n",
    "        radius = np.linspace(0.0, 1, points_per_class)    # Generate evenly spaced numbers in the interval 0 to 1\n",
    "        theta = np.linspace(y_value*4, (y_value+1)*4, points_per_class) + np.random.randn(points_per_class) * 0.2    \n",
    "\n",
    "        X[ix] = np.column_stack([radius*np.sin(theta), radius*np.cos(theta)])     # Convert polar coordinates to standard Euclidian coordinates\n",
    "        y[ix] = y_value\n",
    "    \n",
    "    return X, y\n",
    "    \n",
    "    \n",
    "def plot_data(X, y):\n",
    "    \"\"\"Use Matplotlib to plot X, y data on a figure.\"\"\"\n",
    "    fig = plt.figure()\n",
    "    plt.scatter(X[:, 0], X[:, 1], c=y, s=40, cmap=plt.cm.Spectral)\n",
    "    plt.xlim([-1,1])\n",
    "    plt.ylim([-1,1])\n",
    "    return fig\n",
    "\n",
    "X, y = generate_spiral_data(num_classes, dimensions, points_per_class)\n",
    "fig = plot_data(X, y)\n",
    "\n",
    "# fig.savefig('spiral_raw.png')    # Uncomment this line if you want to save your image to a file"
   ]
  },
  {
   "cell_type": "markdown",
   "metadata": {
    "colab_type": "text",
    "id": "py9FsXFCaNBl"
   },
   "source": [
    "Let's look quickly at some of the raw values to get a better sense of the datastructure:"
   ]
  },
  {
   "cell_type": "code",
   "execution_count": 9,
   "metadata": {
    "colab": {
     "autoexec": {
      "startup": false,
      "wait_interval": 0
     },
     "height": 265,
     "output_extras": [
      {
       "item_id": 1
      }
     ]
    },
    "colab_type": "code",
    "executionInfo": {
     "elapsed": 256,
     "status": "ok",
     "timestamp": 1503396527717,
     "user": {
      "displayName": "Avishkar Bhoopchand",
      "photoUrl": "//lh5.googleusercontent.com/-OainnMWSi6A/AAAAAAAAAAI/AAAAAAAAAOQ/eI7Z19q5v7E/s50-c-k-no/photo.jpg",
      "userId": "105781587643595215149"
     },
     "user_tz": -60
    },
    "id": "2dYbunVuaRyg",
    "outputId": "e548f57c-d2f5-4dc8-a43c-5e2d8077e775"
   },
   "outputs": [
    {
     "name": "stdout",
     "output_type": "stream",
     "text": [
      "X values: \n",
      " [[ 0.07453433  0.08240335]\n",
      " [-0.02794273 -0.01172508]\n",
      " [ 0.02408017  0.07713684]\n",
      " [-0.33180022 -0.4828446 ]\n",
      " [ 0.08547524 -0.08594394]\n",
      " [-0.1907823   0.45670244]\n",
      " [-0.67819595  0.66452307]\n",
      " [ 0.11460172 -0.79991317]\n",
      " [-0.3148546   0.23675902]\n",
      " [ 0.419484   -0.45131844]]\n",
      "\n",
      "Y values: \n",
      " [0 1 0 2 2 1 2 0 1 0]\n"
     ]
    }
   ],
   "source": [
    "idx = np.random.choice(range(y.size), size=10, replace=False)\n",
    "print(\"X values: \\n\", X[idx,])\n",
    "print()\n",
    "print(\"Y values: \\n\", y[idx])\n",
    "\n"
   ]
  },
  {
   "cell_type": "markdown",
   "metadata": {
    "colab_type": "text",
    "id": "4NPYAO6t2yyL"
   },
   "source": [
    "# Implementing a Classifier from Scratch\n",
    "Before experimenting with libraries like TensorFlow, we start by implementing a *simple linear classifier* and then a *more complex nonlinear classifier* from scratch in Numpy. This allows us to be able to go through all the low-level details of how to make predictions and how to train our models, as these details are very important. \n",
    "\n",
    "Later on, we will then reimplement these two classifiers using TensorFlow, and hopefully we will see that this makes things much easier (especially as the models get more complex!).\n",
    "\n",
    "## Implementing a linear classifier\n",
    "How do we define and train a model that learns to separate the num_classes different classes, based on their coordinates in X space? We start by using a **linear classifier**.\n",
    "\n",
    "A classifer is a function that takes an object's characteristics (or features) as inputs and outputs a prediction of the class (or group) that the object belongs to. It may make a single prediction for each input or it may output some score (for example a probability) for each of the possible classes. A classifier is **linear** when the scores are derived through some [linear combination](https://en.wikipedia.org/wiki/Linear_combination) of the input features. An input feature can, for example, be a projection of the raw data onto some basis functions.\n",
    "\n",
    "\n",
    "\n",
    "The linear classifier we will implement computes the scores for a given input X using the formula $z = Wx + b$ where $W$ is a weight matrix of shape $[d, k]$ where $d$ is the number of possible classes and $k$ is the dimensionality of the input and $b$ is a bias vector of length $k$. \n",
    "\n",
    "By normalising the output score vector, using the so-called [**softmax**](https://en.wikipedia.org/wiki/Softmax_function) function, we can derive a probability distribution: \n",
    "\n",
    "$y'(j) = P(y=j\\ |\\ z) = \\frac{e^{z_j}}{\\sum_{i=1}^k e^{z_i}}$\n",
    "\n",
    "Here j refers to the jth possible class and $z_j$ to the jth element of vector $z$. \n",
    "\n",
    "In this probabilistic form, we can also describe the classifier as a linear **discriminitive** classifier. This means that it directly models the probability distribution of the unobserved class conditioned on (\"given\") the input. In contrast, **generative** models, which we will encounter later in the Indaba, model the generative process of the data. \n",
    "\n",
    "Finally, we need to define a loss function, such that minimising the loss function by gradient descent, results in parameters $W$ and $b$ which make good predictions about the class of each input $X$. For this purpose we use the **cross entropy** loss (also called the negative log likelihood loss). The cross entropy loss compares two probability distributions, the true distribution $y$ and the predicted distribution from our classifier, $y'$ using the formula:\n",
    "\n",
    "$H(y, y') = - \\sum_{j=1}^k y(j)log[y'(j)] $\n",
    "\n",
    "Here the \"probability distribution\" $y$ is the so called \"one-hot\" encoding of the true class of the particular example. \n",
    "Earlier in the practical, you experimented with a loss function that looked like this (in code):\n",
    "\n",
    "```\n",
    "inner = y[n] * (w0 * x[n, 0] + w1 * x[n, 1])     \n",
    "loss += np.log(1 + np.exp(- inner))\n",
    "```\n",
    "        \n",
    "Can you figure out how the cross entropy loss we defined here, combined with the softmax function, compares to this when **k=2**? And if we restrict our y values to be in the set {-1, 1}?\n",
    "\n",
    "\n",
    "Let's implement these in Numpy! \n",
    "\n",
    "(Remember that Numpy is a linear algebra library that works most efficiently with vector and matrix operations, try to define all your formulas in vector and matrix form, rather than using loops!)"
   ]
  },
  {
   "cell_type": "markdown",
   "metadata": {
    "colab_type": "text",
    "id": "MwDLKxvedst3"
   },
   "source": [
    "### Define the hyperparameters\n",
    "\n",
    "Model hyperparameters include all choices about a model that are made prior to training. In a sense, these are the \"meta parameters\": parameters chosen by the practitioner and are not set by the optimization algorithm. This includes choices of learning rate, number of examples in a batch, etc."
   ]
  },
  {
   "cell_type": "code",
   "execution_count": 10,
   "metadata": {
    "colab": {
     "autoexec": {
      "startup": false,
      "wait_interval": 0
     }
    },
    "colab_type": "code",
    "id": "_E1ELA7ydv5Q"
   },
   "outputs": [],
   "source": [
    "learning_rate = 1e-0    # \"Step-size\": How far along the gradient do we want to \n",
    "                                            # travel when doing gradient descent?\n",
    "reg_lambda = 1e-3    # Regularization strength.\n",
    "\n",
    "# Define the initial random value of W here so we can re-use it later.\n",
    "# There are various initialization schemes that exist, and we will see later    \n",
    "# how these can have a big influence on model training. For now we will just\n",
    "# initialize our weights with random normal(0, 0.01) values.\n",
    "\n",
    "W_init = 0.01 * np.random.randn(dimensions, num_classes)"
   ]
  },
  {
   "cell_type": "markdown",
   "metadata": {
    "colab_type": "text",
    "id": "V6Y5ebQLj--W"
   },
   "source": [
    "### Defining helper functions\n",
    "Begin by defining some re-usable helper functions. You may want to look ahead to the `LinearModel` class before implementing these to see how they get used. "
   ]
  },
  {
   "cell_type": "code",
   "execution_count": 11,
   "metadata": {
    "colab": {
     "autoexec": {
      "startup": false,
      "wait_interval": 0
     }
    },
    "colab_type": "code",
    "id": "vzxWhYPVj-et"
   },
   "outputs": [],
   "source": [
    "def softmax(logits):\n",
    "    \"\"\"Convert un-normalised model scores(logits) into a probability distribution.\n",
    "\n",
    "    Args:\n",
    "        logits: The un-normalised scores assigned by the model.\n",
    "    \"\"\"\n",
    "    # IMPLEMENT-ME: (1) \n",
    "    # Hint: Have a look at the np.exp and np.sum functions, \n",
    "    # paying particular attention to the axis and keepdims parameters of the sum function\n",
    "    # result = []\n",
    "    # result.append(math.exp(n)/logits_sum)\n",
    "    # logits_sum = np.sum(lambda x: np.exp(x), logits)\n",
    "    \n",
    "    exp_logits = np.exp(logits)\n",
    "    logits_sum = np.sum(exp_logits, axis=1, keepdims=True)\n",
    "    probs = exp_logits/logits_sum \n",
    "    return probs\n",
    "\n",
    "def cross_entropy(predictions, targets):\n",
    "    \"\"\"Calculate the cross entropy loss given some predictions and target (true) values.\n",
    "\n",
    "    Args:\n",
    "        predictions: The model predictions (of shape [num_examples, num_classes])\n",
    "        targets: The correct labels for the data (of shape [num_examples])\n",
    "    \"\"\"\n",
    "    num_examples = predictions.shape[0]\n",
    "    \n",
    "    # IMPLEMENT-ME: (2)\n",
    "    # HINT: Think about the shapes of predictions and targets and what cross entropy is measuring. \n",
    "    # You may want to use \"numpy advanced indexing\" (but there are many other ways too!)\n",
    "    \n",
    "    correct_logprobs = -np.log(predictions[range(num_examples), targets])\n",
    "    \n",
    "    # NOTE: When dealing with a batch of data, we compute the average cross\n",
    "    # entropy over the batch (i.e. we want the average per-example loss).\n",
    "    # QUESTION: Why do we use the average loss?\n",
    "    crossentropy = np.sum(correct_logprobs) / num_examples\n",
    "    return crossentropy\n",
    "\n",
    "def l2_loss(parameters):\n",
    "    \"\"\"Calculate the L2 regularisation of a list of parameters.\"\"\"\n",
    "    reg = 0.0\n",
    "    for param in parameters:\n",
    "        # IMPLEMENT-ME: (3) \n",
    "        # HINT: Remember to include reg_lambda, the hyper-parameter that controls the degree of regularisation.\n",
    "        reg += 0.5 * reg_lambda * np.sum(param * param)\n",
    "    return reg"
   ]
  },
  {
   "cell_type": "markdown",
   "metadata": {
    "colab_type": "text",
    "id": "LksU46NvBjlt"
   },
   "source": [
    "### Defining the linear model\n",
    "Now we define the linear model itself. We put this in a class so that we can think of it as a \"black box\" that takes in our inputs and returns some predictions and a loss value that tells us how good our predictions are. We can also update the model using its update method. Doing it this way gives a clean separation between the model definition and training of the model and will be a useful pattern to use going forward.\n",
    "\n",
    "#### Gradient-based optimization\n",
    "Machine learning models assign a scalar cost/loss/error function $E(\\theta)$ (these terms are largely interchangeable) to tell *how well the model is doing*, as a function of the model parameters $\\theta$. We want to find a setting of the parameters $\\theta$ that gives us the best model possible on our data. For this we use gradient-based optimization, and particularly stochastic gradient descent (we'll talk more about this in Practical 2). The SGD algorithm\n",
    "computes the gradient $\\frac{\\partial E}{\\partial \\theta}$ on a sample of the data, and then takes a small step/update in the negative direction of the gradient (which minimizes $E$). I.e.\n",
    "\n",
    "$\\theta^{t+1} = \\theta^t - \\eta \\frac{\\partial E}{\\partial \\theta}$\n",
    "\n",
    "Here, $\\eta$ is referred to as the \"learning rate\". There's a lot more to say about this, but this is all we need for now. To implement this, we need to compute the gradients of the loss function wrt the model parameters.\n",
    "\n",
    "#### Deriving the Softmax Gradients\n",
    "\n",
    "Recall the definition of the softmax above, written in terms of the **logits** (unnormalized scores) $z$):\n",
    "\n",
    "$P(y=j\\ |\\ z) = \\frac{e^{z_j}}{\\sum_{i=1}^k e^{z_i}}$\n",
    "\n",
    "Our loss (error function) is the cross-entropy function:\n",
    "\n",
    "$E = - \\sum_k (\\log p_k).y_k$, \n",
    "\n",
    "where $y_k$ is the **\"one-hot\" encoding** of the target class, so the terms of the sum is zero everywhere except for the observed class (i.e. we can ignore the sum and let $k$ be equal to the observed class). The above sum really just \"picks out\" one $\\log p_k$ (compare this to the code for `cross_entropy()` above). We require the gradient of the loss with respect to the logits, i.e.\n",
    "\n",
    "$\\frac{\\partial E}{\\partial z_k} = - \\frac{\\partial}{\\partial z_k} [ \\log p_k ]$\n",
    "\n",
    "By substituting the softmax equation for $p_k$, and expanding the log-quotient into two terms, we get (just the RHS for now)\n",
    "\n",
    "$\\frac{\\partial}{\\partial z_k} (\\log(e^{z_k}) - \\log \\sum_j e^{z_j})$\n",
    "\n",
    "where the first term reduces to 1, and the second is known as the \"log-sum-exp\". This arises frequently in normalized probabilistic models, and we can deal with that as follows:\n",
    "\n",
    "\\begin{aligned}\n",
    " \\frac{\\partial}{\\partial z_k} \\log \\sum_j e^{z_j} &= \n",
    "     \\frac{1}{\\sum_j e^{z_j}} \\left [ \\frac{\\partial}{\\partial z_k} \\sum_j e^{z_j} \\right ] \n",
    "         && \\vartriangleright \\frac{d}{dx} \\log f(x) = \\frac{1}{f(x)} \\frac{d}{dx}f(x)\\\\\n",
    " &= \\frac{e^{z_k}}{\\sum_j e^{z_j}}    \n",
    "         && \\vartriangleright    \\frac{d}{dx} e^{f(x)} = e^{f(x)}    \\frac{d}{dx}f(x) \\\\\n",
    " &= p_k\n",
    "\\end{aligned}\n",
    "\n",
    "Putting it all together we get this elegant expression for the **softmax gradient**:\n",
    "\n",
    "$\\frac{\\partial E}{\\partial z_k} = - [1 - p_k ] = p_k - 1$.\n",
    "\n",
    "#### What does this mean?\n",
    "\n",
    "Look at the derivative. When is it big? When $p_k$ is far from one, and we mis-classified the point. The derivative is big and we have some more work to do! When is the derivative small? It is when $p_k \\approx 1$. In that case, we correctly classified the point, and don't need to sweat and labour any more.\n",
    "\n",
    "\n",
    "**NOTE**: The derivative is for each example, and in the full derivative, many data points play a role. The misclassified ones play a bigger role. So, we typically compute this for a *batch* of examples by computing the **average per-example cross-entropy** over the batch. \n",
    "\n",
    "**QUESTION**: Why do we compute the average loss? Hint: What happens to the loss as batch-size changes without averaging? Also, what happens to the gradients as batch-size changes? How could these be a problem? \n",
    "\n",
    "#### Deriving the Weights Gradients\n",
    "\n",
    "We now have $\\frac{\\partial E}{\\partial z_k}$ (the derivative of the loss with respect to the logit for class $k$). Next we want the gradient on the weights $W$. \n",
    "\n",
    "**QUESTION**: How can we compute $\\frac{\\partial E}{\\partial W}$? **Note**: This is a derivative of a matrix (gradient). \n",
    "\n",
    "To derive this, let's think about the shape of W, and then derive the gradient on each of its elements first. W is a [output_dim, input_dim] matrix. Let $w_{ij}$ be the weight at W[i,j] (connecting input element $i$ to output class $j$). \n",
    "\n",
    "Now let's use the [chain rule](https://www.khanacademy.org/math/ap-calculus-ab/ab-derivative-rules/ab-chain-rule/a/chain-rule-review) to derive this:\n",
    "\n",
    "$\\frac{\\partial E}{\\partial w_{ij}} = \\frac{\\partial E}{\\partial z_j} \\frac{\\partial z_j}{\\partial w_{ij}}$\n",
    "\n",
    "This gradient is the product of two terms. Notice that we already computed the first term above! So we just need the second term:\n",
    "\n",
    "To start, notice that $z_j = x^T W_j + b_j = \\sum_i x_i w_{ij} + b_j$ ($W_j$ is the j-th column of matrix W). Use this to answer the following question:\n",
    "\n",
    "**QUESTIONs:**\n",
    "1. Derive $\\frac{\\partial z_j}{\\partial w_{ij}}$.\n",
    "2. Now put this together to get $\\frac{\\partial E}{\\partial w_{ij}}$.\n",
    "3. Do the same for $\\frac{\\partial E}{\\partial b_{j}}$.\n",
    "4. Put these together to arrive at $\\frac{\\partial E}{\\partial W}$ (a matrix) and $\\frac{\\partial E}{\\partial b}$ (a vector) **HINT**: Think about the ingredients: the vector of activations $x$ and the vector of logits $z$. What is the dimension of each? Now think about the dimensions of W. Which linear algebra operator can take two vectors and output a matrix? :)\n",
    "\n"
   ]
  },
  {
   "cell_type": "code",
   "execution_count": 12,
   "metadata": {
    "colab": {
     "autoexec": {
      "startup": false,
      "wait_interval": 0
     }
    },
    "colab_type": "code",
    "id": "QzlF2JiS2d5E"
   },
   "outputs": [],
   "source": [
    "class LinearModel(object):\n",
    "    def __init__(self):\n",
    "        # Initialize the model parameters.\n",
    "        self.W = np.copy(W_init)\n",
    "        self.b = np.zeros((1, num_classes))\n",
    "    \n",
    "    def predictions(self, X):\n",
    "        \"\"\"Make predictions of classes (y values) given some inputs (X).\"\"\"\n",
    "        # Evaluate class scores/\"logits\": [points_per_class*num_classes x num_classes].\n",
    "        logits = self.get_logits(X)\n",
    "\n",
    "        # Compute the class probabilities.\n",
    "        probs = softmax(logits)\n",
    "        \n",
    "        return probs\n",
    "    \n",
    "    def loss(self, probs, y):\n",
    "        \"\"\"Calculate the loss given model predictions and true targets.\"\"\"\n",
    "        num_examples = probs.shape[0]\n",
    "        data_loss = cross_entropy(probs, y)\n",
    "        regulariser = l2_loss([self.W])\n",
    "        return data_loss + regulariser\n",
    "    \n",
    "    def update(self, probs, X, y):    \n",
    "        \"\"\"Update the model parameters using back-propagation and gradient descent.\"\"\"\n",
    "        # Calculate the gradient of the loss with respect to logits\n",
    "        dlogits = self.derivative_loss_logits(probs, y)    \n",
    "        \n",
    "        # Gradient of the loss wrt W\n",
    "        dW = self.derivative_loss_W(X, dlogits)\n",
    "        \n",
    "        # Gradient of the loss wrt b\n",
    "        db = self.derivative_loss_b(dlogits)\n",
    "        \n",
    "        # Don't forget the gradient on the regularization term.\n",
    "        dW += self.derivative_regularisation()\n",
    "        \n",
    "        # Perform a parameter update.\n",
    "        self.W += -learning_rate * dW\n",
    "        self.b += -learning_rate * db\n",
    "        \n",
    "    \n",
    "    ##### Now we define some helper functions     \n",
    "    def get_logits(self, X):\n",
    "        \"\"\"Calculate the un-normalised model scores.\"\"\"\n",
    "        # IMPLEMENT-ME: (4)\n",
    "        # HINT: We're trying to calculate WX + b, but X is a batch, so think about the shapes! \n",
    "        logits = np.dot(X, self.W) + self.b\n",
    "        return logits\n",
    "\n",
    "    def derivative_loss_logits(self, probs, y):\n",
    "        \"\"\"Calculate the derivative of the loss with respect to logits.\"\"\"\n",
    "        num_examples = y.shape[0]\n",
    "        # IMPLEMENT-ME: (5)\n",
    "        # dE/dz = dE/dy' * dy'/dz\n",
    "        dlogits = probs \n",
    "        dlogits[range(num_examples), y] -= 1\n",
    "        dlogits /= num_examples\n",
    "        return dlogits\n",
    "    \n",
    "    def derivative_loss_W(self, X, dlogits):\n",
    "        \"\"\"Calculate the derivative of the loss wrt W.\"\"\"\n",
    "        # IMPLEMENT-ME: (6)\n",
    "        # dE/dw = dE/dy' * dy'/dz * dz/dw\n",
    "        dW = np.dot(X.T, dlogits)\n",
    "        return dW\n",
    "    \n",
    "    def derivative_loss_b(self, dlogits):\n",
    "        \"\"\"Calculate the derivative of the loss wrt b.\"\"\"\n",
    "        # IMPLEMENT-ME: (7)\n",
    "        # HINT: Have a look at np.sum, again paying attention to the axis and keepdims parameters.\n",
    "        # dE/dy'\n",
    "        db = np.sum(dlogits, axis=0, keepdims=True)\n",
    "        return db\n",
    "    \n",
    "    def derivative_regularisation(self):\n",
    "        return reg_lambda * self.W     "
   ]
  },
  {
   "cell_type": "markdown",
   "metadata": {
    "colab_type": "text",
    "id": "tc3wrrwVCQNU"
   },
   "source": [
    "### Training the linear model\n",
    "Now that we've defined our \"black box\" linear model. We can train it on our dummy spiral dataset"
   ]
  },
  {
   "cell_type": "code",
   "execution_count": 13,
   "metadata": {
    "colab": {
     "autoexec": {
      "startup": false,
      "wait_interval": 0
     }
    },
    "colab_type": "code",
    "id": "ARwVZj5zEPTv"
   },
   "outputs": [],
   "source": [
    "# Define a function that trains a model for a given number of epochs \n",
    "# (iterations through the data).\n",
    "\n",
    "def train_model(model, epochs, report_every, render_fn=None, render_args={}):\n",
    "    frames = []\n",
    "    for i in range(epochs):\n",
    "    \n",
    "        # Get the model predictions for our spiral dataset X.\n",
    "        probs = model.predictions(X)\n",
    "\n",
    "        # Compute the loss\n",
    "        loss = model.loss(probs, y)\n",
    "\n",
    "        # Print the loss value every `report_every` steps.\n",
    "        if i % report_every == 0:\n",
    "            print(\"iteration %d: loss %f\" % (i, loss))\n",
    "            if render_fn:\n",
    "                frame = render_fn(**render_args)\n",
    "                frames.append(frame)\n",
    "\n",
    "        # Use back-propagation to update the model parameters:\n",
    "        model.update(probs, X, y)    \n",
    "        \n",
    "    if frames: return frames"
   ]
  },
  {
   "cell_type": "code",
   "execution_count": 14,
   "metadata": {
    "colab": {
     "autoexec": {
      "startup": false,
      "wait_interval": 0
     },
     "height": 357,
     "output_extras": [
      {
       "item_id": 1
      }
     ]
    },
    "colab_type": "code",
    "executionInfo": {
     "elapsed": 436,
     "status": "ok",
     "timestamp": 1504361656248,
     "user": {
      "displayName": "Stephan Gouws",
      "photoUrl": "//lh4.googleusercontent.com/-6znVyM1oxdg/AAAAAAAAAAI/AAAAAAAAABI/vEPo2Ce7Rpc/s50-c-k-no/photo.jpg",
      "userId": "102606466886131565871"
     },
     "user_tz": -60
    },
    "id": "OuR6eFwoCXcf",
    "outputId": "35f7984f-3618-4051-dd06-5dbea9db93a0"
   },
   "outputs": [
    {
     "name": "stdout",
     "output_type": "stream",
     "text": [
      "iteration 0: loss 1.100447\n",
      "iteration 10: loss 0.918496\n",
      "iteration 20: loss 0.852024\n",
      "iteration 30: loss 0.822591\n",
      "iteration 40: loss 0.807724\n",
      "iteration 50: loss 0.799528\n",
      "iteration 60: loss 0.794729\n",
      "iteration 70: loss 0.791794\n",
      "iteration 80: loss 0.789940\n",
      "iteration 90: loss 0.788739\n",
      "iteration 100: loss 0.787946\n",
      "iteration 110: loss 0.787414\n",
      "iteration 120: loss 0.787053\n",
      "iteration 130: loss 0.786806\n",
      "iteration 140: loss 0.786634\n",
      "iteration 150: loss 0.786515\n",
      "iteration 160: loss 0.786432\n",
      "iteration 170: loss 0.786373\n",
      "iteration 180: loss 0.786332\n",
      "iteration 190: loss 0.786303\n"
     ]
    }
   ],
   "source": [
    "# Create an instance of our LinearModel.\n",
    "linear_model = LinearModel()\n",
    "\n",
    "# Now we train the linear model for 200 epochs.\n",
    "train_model(linear_model, 200, 10)"
   ]
  },
  {
   "cell_type": "markdown",
   "metadata": {
    "colab_type": "text",
    "id": "1gPfOe1E3W5j"
   },
   "source": [
    "### Evaluating the model\n",
    "The training of the model should have converged to a value around 0.786 if you used the default data parameters earlier. (Convergence means that the loss decreases to a point and then stops decreasing). But how do we interpret this? Is our model actually good at making predictions? Let's work out the **accuracy** of the model to see:"
   ]
  },
  {
   "cell_type": "code",
   "execution_count": 15,
   "metadata": {
    "colab": {
     "autoexec": {
      "startup": false,
      "wait_interval": 0
     }
    },
    "colab_type": "code",
    "id": "PH-cpnO-Er6F"
   },
   "outputs": [],
   "source": [
    "# Define a function that calcuates and prints the accuracy of a model's predictions\n",
    "def evaluate_model(model):\n",
    "    # Get the probabilites/scores that the model assigns to each class for each X datapoint.\n",
    "    scores = model.get_logits(X)    # The shape of scores is [num_data_points, num_classes]\n",
    "\n",
    "    # The index of the maximum score along the 2nd dimension is the class that the model thinks is most likely (y^) for each datapoint.\n",
    "    print('scores:', scores)\n",
    "    predicted_class = np.argmax(scores, axis=1)\n",
    "    print('predicted class:', predicted_class)\n",
    "\n",
    "    # What proportion of the class predictions made by the model (y^) agree with the true class values (y) ?\n",
    "    print('Accuracy: %.2f' % (np.mean(predicted_class == y)))    "
   ]
  },
  {
   "cell_type": "code",
   "execution_count": 16,
   "metadata": {
    "colab": {
     "autoexec": {
      "startup": false,
      "wait_interval": 0
     },
     "height": 54,
     "output_extras": [
      {
       "item_id": 1
      }
     ]
    },
    "colab_type": "code",
    "executionInfo": {
     "elapsed": 168,
     "status": "ok",
     "timestamp": 1502706247541,
     "user": {
      "displayName": "Ulrich Paquet",
      "photoUrl": "//lh3.googleusercontent.com/-q3A91HQu7t8/AAAAAAAAAAI/AAAAAAAAAAw/O3bjgikw0xQ/s50-c-k-no/photo.jpg",
      "userId": "117228953648657363788"
     },
     "user_tz": -60
    },
    "id": "KC_V-9pn3Zpi",
    "outputId": "f8370335-7a2f-4b66-8cde-8a69440fe0bb"
   },
   "outputs": [
    {
     "name": "stdout",
     "output_type": "stream",
     "text": [
      "scores: [[-1.56945292e-02 -4.49825067e-02  6.06770359e-02]\n",
      " [-3.78000928e-02 -1.64083338e-02  5.41658678e-02]\n",
      " [-5.52580537e-02  1.38940713e-02  4.13095059e-02]\n",
      " [-5.82307656e-02  4.23914549e-02  1.58482489e-02]\n",
      " [-7.53223856e-02  7.21851422e-02  3.13487052e-03]\n",
      " [-1.33015016e-01  9.25359514e-02  4.02135618e-02]\n",
      " [-1.17582444e-01  1.32537482e-01 -1.50227155e-02]\n",
      " [-1.56897361e-01  1.60479448e-01 -3.78960907e-03]\n",
      " [-1.70460592e-01  1.91121805e-01 -2.08580834e-02]\n",
      " [-1.66192609e-01  2.21111512e-01 -5.50079880e-02]\n",
      " [-1.85428853e-01  2.50878595e-01 -6.55621155e-02]\n",
      " [-1.30459915e-01  2.61213214e-01 -1.30531610e-01]\n",
      " [-1.68005061e-01  2.99347114e-01 -1.31221805e-01]\n",
      " [-2.05516951e-01  3.34949113e-01 -1.29420271e-01]\n",
      " [-1.87912864e-01  3.54889954e-01 -1.66811576e-01]\n",
      " [-1.93949656e-01  3.81221392e-01 -1.87065887e-01]\n",
      " [-1.00427656e-01  3.56867518e-01 -2.55783253e-01]\n",
      " [-2.28114145e-01  4.41703519e-01 -2.13403534e-01]\n",
      " [-1.80087403e-01  4.45382453e-01 -2.64832342e-01]\n",
      " [-2.73769783e-01  5.05369027e-01 -2.31488263e-01]\n",
      " [-4.04340746e-01  5.45016533e-01 -1.41178304e-01]\n",
      " [-1.08888056e-01  4.70959939e-01 -3.61142287e-01]\n",
      " [-6.69615267e-02  4.63675860e-01 -3.95572468e-01]\n",
      " [-2.30742904e-01  5.83982008e-01 -3.52668871e-01]\n",
      " [ 1.49933432e-01  3.16704471e-01 -4.64704397e-01]\n",
      " [-2.85951694e-01  6.54891858e-01 -3.68477496e-01]\n",
      " [-7.76960109e-02  5.57177831e-01 -4.78137330e-01]\n",
      " [-8.43615512e-02  5.83408550e-01 -4.97665946e-01]\n",
      " [ 1.87398628e-01  3.66790671e-01 -5.51907404e-01]\n",
      " [ 2.14434557e-01  3.60669010e-01 -5.72688787e-01]\n",
      " [ 5.43127965e-02  5.37123626e-01 -5.89415510e-01]\n",
      " [ 1.23926384e-01  4.95429372e-01 -6.17065403e-01]\n",
      " [-4.61879928e-02  6.62090394e-01 -6.14088839e-01]\n",
      " [-1.97193353e-01  7.88005156e-01 -5.89483238e-01]\n",
      " [ 1.16701193e-01  5.67095175e-01 -6.81345147e-01]\n",
      " [ 2.44688230e-01  4.62932860e-01 -7.04751628e-01]\n",
      " [ 4.67527745e-01  2.25896120e-01 -6.89982334e-01]\n",
      " [ 5.08963956e-01  1.96351499e-01 -7.01726800e-01]\n",
      " [ 2.78675057e-01  4.94184512e-01 -7.69713840e-01]\n",
      " [ 3.40887757e-01  4.49285594e-01 -7.86808244e-01]\n",
      " [ 2.43243655e-01  5.75277784e-01 -8.15344951e-01]\n",
      " [ 2.14934797e-01  6.25473876e-01 -8.37248541e-01]\n",
      " [ 2.02744186e-01  6.59200499e-01 -8.58757634e-01]\n",
      " [ 9.01052569e-01 -2.60520084e-01 -6.36048885e-01]\n",
      " [ 5.50788860e-01  3.17190035e-01 -8.63819248e-01]\n",
      " [ 6.17695508e-01  2.54844756e-01 -8.68184110e-01]\n",
      " [ 5.05640074e-01  4.21473552e-01 -9.22912122e-01]\n",
      " [ 9.34098887e-01 -1.79822563e-01 -7.49383019e-01]\n",
      " [ 5.37819862e-01  4.30265762e-01 -9.63680864e-01]\n",
      " [ 8.76202867e-01 -1.56395398e-02 -8.55530941e-01]\n",
      " [ 8.02746370e-01  1.26946685e-01 -9.24668512e-01]\n",
      " [ 1.07925729e+00 -3.16174377e-01 -7.57766326e-01]\n",
      " [ 9.87342174e-01 -1.08692776e-01 -8.73261124e-01]\n",
      " [ 9.17656607e-01  3.68930250e-02 -9.49139861e-01]\n",
      " [ 1.17215525e+00 -3.91997809e-01 -7.74537894e-01]\n",
      " [ 1.28043154e+00 -6.04193838e-01 -6.70612260e-01]\n",
      " [ 1.28473001e+00 -5.64293642e-01 -7.14675182e-01]\n",
      " [ 1.35842037e+00 -7.11803886e-01 -6.40859967e-01]\n",
      " [ 1.29047501e+00 -4.85107380e-01 -7.99352507e-01]\n",
      " [ 1.37677256e+00 -6.50443051e-01 -7.20299065e-01]\n",
      " [ 1.38672072e+00 -6.24658513e-01 -7.55904238e-01]\n",
      " [ 1.47037168e+00 -8.06770877e-01 -6.57489258e-01]\n",
      " [ 1.46676478e+00 -7.34537050e-01 -7.25933637e-01]\n",
      " [ 1.38999683e+00 -4.93457542e-01 -8.89995224e-01]\n",
      " [ 1.62409307e+00 -1.21295674e+00 -4.05310658e-01]\n",
      " [ 1.63215227e+00 -1.11355764e+00 -5.12445491e-01]\n",
      " [ 1.56127137e+00 -7.75772623e-01 -7.78795776e-01]\n",
      " [ 1.70485702e+00 -1.52549431e+00 -1.73965228e-01]\n",
      " [ 1.71406814e+00 -1.19633559e+00 -5.11360899e-01]\n",
      " [ 1.75639958e+00 -1.56783758e+00 -1.82997192e-01]\n",
      " [ 1.73070303e+00 -1.80793906e+00  8.19849184e-02]\n",
      " [ 1.78615195e+00 -1.73944848e+00 -4.14547715e-02]\n",
      " [ 1.68216715e+00 -2.01627408e+00  3.38002216e-01]\n",
      " [ 1.86402730e+00 -1.51091379e+00 -3.46791731e-01]\n",
      " [ 1.77646348e+00 -2.01090794e+00  2.38878150e-01]\n",
      " [ 1.88803947e+00 -1.83340745e+00 -4.90813135e-02]\n",
      " [ 1.91234974e+00 -1.86152487e+00 -4.52180944e-02]\n",
      " [ 1.89445123e+00 -2.00928593e+00  1.19927773e-01]\n",
      " [ 1.86012645e+00 -2.13604308e+00  2.80463745e-01]\n",
      " [ 1.78905496e+00 -2.26220717e+00  4.76951073e-01]\n",
      " [ 1.96666813e+00 -2.09055888e+00  1.29156728e-01]\n",
      " [ 1.53925547e+00 -2.43720298e+00  8.99869243e-01]\n",
      " [ 1.62236768e+00 -2.45557989e+00  8.35543695e-01]\n",
      " [ 2.01135959e+00 -2.22320148e+00  2.16983954e-01]\n",
      " [ 1.21012021e+00 -2.49975978e+00  1.28955914e+00]\n",
      " [ 9.96101144e-01 -2.46075294e+00  1.46349293e+00]\n",
      " [ 1.20456498e+00 -2.54992454e+00  1.34510764e+00]\n",
      " [ 1.61461769e+00 -2.61861530e+00  1.00582888e+00]\n",
      " [ 1.83124913e+00 -2.60596728e+00  7.77787215e-01]\n",
      " [ 1.05725213e+00 -2.57932850e+00  1.52092440e+00]\n",
      " [ 1.54426969e+00 -2.70956864e+00  1.16648473e+00]\n",
      " [ 8.37760016e-01 -2.53473045e+00  1.69472532e+00]\n",
      " [ 1.19265554e+00 -2.69770615e+00  1.50431817e+00]\n",
      " [ 7.85495349e-01 -2.55479987e+00  1.76671305e+00]\n",
      " [ 9.81906879e-01 -2.66875247e+00  1.68502467e+00]\n",
      " [ 7.40655191e-01 -2.57679688e+00  1.83323967e+00]\n",
      " [ 9.76852964e-01 -2.71333343e+00  1.73450648e+00]\n",
      " [ 2.82885307e-02 -2.15078022e+00  2.11683063e+00]\n",
      " [ 7.51855382e-01 -2.65002698e+00  1.89512639e+00]\n",
      " [ 5.24738076e-01 -2.54144037e+00  2.01270107e+00]\n",
      " [-1.56945292e-02 -4.49825067e-02  6.06770359e-02]\n",
      " [-2.82765064e-03 -7.37329841e-02  7.65514236e-02]\n",
      " [ 7.50788156e-03 -1.01599366e-01  9.40614925e-02]\n",
      " [-1.73261691e-02 -1.07721384e-01  1.24862562e-01]\n",
      " [ 2.12691047e-02 -1.54159998e-01  1.32789884e-01]\n",
      " [-5.33529658e-02 -1.17058450e-01  1.70000290e-01]\n",
      " [ 4.99232723e-03 -1.88423628e-01  1.83143871e-01]\n",
      " [ 1.31413253e-02 -2.15498381e-01  2.02038929e-01]\n",
      " [-9.85508878e-02 -1.35337028e-01  2.33174681e-01]\n",
      " [-9.85999270e-02 -1.58357372e-01  2.56179237e-01]\n",
      " [-1.35443234e-01 -1.38574415e-01  2.73090580e-01]\n",
      " [-1.07948277e-01 -1.93519828e-01  3.00539554e-01]\n",
      " [-2.14522551e-02 -2.96563432e-01  3.17278237e-01]\n",
      " [-2.08402580e-01 -1.18378260e-01  3.25505475e-01]\n",
      " [-9.37073315e-02 -2.74643931e-01  3.67274259e-01]\n",
      " [-1.91544368e-01 -1.89998419e-01  3.80160147e-01]\n",
      " [-2.28246705e-01 -1.68249506e-01  3.94970859e-01]\n",
      " [-1.70709014e-01 -2.60898139e-01  4.30141330e-01]\n",
      " [-2.60420746e-01 -1.76348131e-01  4.35042246e-01]\n",
      " [-3.15003997e-01 -1.27376308e-01  4.40488061e-01]\n",
      " [-3.02017546e-01 -1.71762898e-01  4.71835806e-01]\n",
      " [-1.93323796e-01 -3.26918783e-01  5.18466105e-01]\n",
      " [-3.60655682e-01 -1.42693803e-01  5.01160917e-01]\n",
      " [-4.79931793e-01  1.99788314e-02  4.57558575e-01]\n",
      " [-3.31801155e-01 -2.33402691e-01  5.62921054e-01]\n",
      " [-4.23657339e-01 -1.32805459e-01  5.53952295e-01]\n",
      " [-4.31265483e-01 -1.49074083e-01  5.77741217e-01]\n",
      " [-6.55098853e-01  2.37994376e-01  4.14349269e-01]\n",
      " [-6.11287644e-01  9.26291713e-02  5.15738780e-01]\n",
      " [-6.27220062e-01  8.68924100e-02  5.37303446e-01]\n",
      " [-5.50320044e-01 -8.13353045e-02  6.28586192e-01]\n",
      " [-7.14675058e-01  1.92219688e-01  5.19241145e-01]\n",
      " [-6.42474682e-01  1.09031894e-02  6.28249530e-01]\n",
      " [-7.51119702e-01  1.87948429e-01  5.59742799e-01]\n",
      " [-7.29300657e-01  1.03017481e-01  6.22737632e-01]\n",
      " [-8.72674394e-01  4.06251877e-01  4.62931581e-01]\n",
      " [-9.02851418e-01  4.38662458e-01  4.60621427e-01]\n",
      " [-8.89091741e-01  3.35131343e-01  5.50178906e-01]\n",
      " [-9.63911404e-01  5.09833501e-01  4.50371063e-01]\n",
      " [-8.93484701e-01  2.49827510e-01  6.39612104e-01]\n",
      " [-8.95655971e-01  2.12222832e-01  6.79270549e-01]\n",
      " [-1.06401883e+00  6.85437534e-01  3.74811286e-01]\n",
      " [-1.08764455e+00  6.89127147e-01  3.94626615e-01]\n",
      " [-1.12316388e+00  8.37296455e-01  2.82195010e-01]\n",
      " [-1.06398014e+00  1.14733906e+00 -8.58334246e-02]\n",
      " [-1.16295826e+00  1.00563873e+00  1.53898317e-01]\n",
      " [-1.17938840e+00  6.98183124e-01  4.76830698e-01]\n",
      " [-1.18623582e+00  1.14359798e+00  3.94743087e-02]\n",
      " [-1.23002809e+00  7.30722316e-01  4.94741394e-01]\n",
      " [-1.27736911e+00  9.84312282e-01  2.88940823e-01]\n",
      " [-1.29052749e+00  1.12189673e+00  1.64827553e-01]\n",
      " [-1.14331150e+00  1.41216259e+00 -2.71023266e-01]\n",
      " [-1.34986079e+00  1.11511936e+00  2.30589901e-01]\n",
      " [-1.37226028e+00  1.16193282e+00  2.06182895e-01]\n",
      " [-1.34543404e+00  1.35261309e+00 -1.06400176e-02]\n",
      " [-1.39659680e+00  1.31729506e+00  7.54577779e-02]\n",
      " [-1.18686519e+00  1.58624206e+00 -4.01302620e-01]\n",
      " [-1.44761933e+00  1.36453017e+00  7.90944749e-02]\n",
      " [-1.46335764e+00  1.41416604e+00  4.52487560e-02]\n",
      " [-1.39595913e+00  1.58193074e+00 -1.89069928e-01]\n",
      " [-1.40046121e+00  1.62723161e+00 -2.29766678e-01]\n",
      " [-8.83249695e-01  1.73228185e+00 -8.48863275e-01]\n",
      " [-1.09315178e+00  1.79073633e+00 -6.98416726e-01]\n",
      " [-1.25858936e+00  1.81028104e+00 -5.53387239e-01]\n",
      " [-1.48078288e+00  1.74883027e+00 -2.71148458e-01]\n",
      " [-1.01602576e+00  1.86507967e+00 -8.49249552e-01]\n",
      " [-1.41684787e+00  1.86955268e+00 -4.55112503e-01]\n",
      " [-1.50161886e+00  1.86658433e+00 -3.67851970e-01]\n",
      " [-7.78234053e-01  1.86978523e+00 -1.09041386e+00]\n",
      " [-9.95968677e-01  1.96510277e+00 -9.68937927e-01]\n",
      " [-7.55945366e-01  1.90777080e+00 -1.15045789e+00]\n",
      " [-8.97401005e-01  1.98579784e+00 -1.08759558e+00]\n",
      " [-6.60442780e-01  1.91024420e+00 -1.24789689e+00]\n",
      " [-1.10240489e+00  2.09301381e+00 -9.90644789e-01]\n",
      " [-1.17291766e+00  2.13270043e+00 -9.60098698e-01]\n",
      " [-5.28954130e-01  1.90785170e+00 -1.37626998e+00]\n",
      " [-9.97677307e-01  2.14135566e+00 -1.14299741e+00]\n",
      " [-9.00305545e-01  2.13145645e+00 -1.22995730e+00]\n",
      " [-7.51791351e-01  2.09124007e+00 -1.33754363e+00]\n",
      " [-4.99633659e-01  1.97904738e+00 -1.47642375e+00]\n",
      " [-5.73289555e-01  2.04376970e+00 -1.46771747e+00]\n",
      " [-9.00172497e-01  2.22624795e+00 -1.32461530e+00]\n",
      " [-5.40559816e-01  2.06919348e+00 -1.52561805e+00]\n",
      " [-1.09028672e+00  2.34341166e+00 -1.25239138e+00]\n",
      " [ 1.64570485e-01  1.59861165e+00 -1.75757261e+00]\n",
      " [-7.07731654e-01  2.22834624e+00 -1.51808048e+00]\n",
      " [-4.15925800e-01  2.07997167e+00 -1.66030830e+00]\n",
      " [ 1.85738939e-01  1.64450989e+00 -1.82439312e+00]\n",
      " [-7.89706328e-02  1.88361935e+00 -1.79959164e+00]\n",
      " [ 1.02036368e+00  8.24364604e-01 -1.83654022e+00]\n",
      " [-1.49535342e-01  1.98008719e+00 -1.82561589e+00]\n",
      " [ 6.64848012e-01  1.27188044e+00 -1.92925859e+00]\n",
      " [ 6.24876555e-01  1.33565798e+00 -1.95310766e+00]\n",
      " [ 1.95748249e-01  1.76440889e+00 -1.95390964e+00]\n",
      " [ 1.07440483e+00  8.78268348e-01 -1.94403402e+00]\n",
      " [ 8.65681209e-01  1.14476367e+00 -2.00221684e+00]\n",
      " [ 1.37543752e+00  5.40803389e-01 -1.90687734e+00]\n",
      " [ 1.49288111e+00  4.03541087e-01 -1.88679172e+00]\n",
      " [ 2.04712485e+00 -4.83287669e-01 -1.55361748e+00]\n",
      " [ 1.86884181e+00 -1.23115437e-01 -1.73548615e+00]\n",
      " [-1.56945292e-02 -4.49825067e-02  6.06770359e-02]\n",
      " [-2.08010744e-03 -3.77087306e-02  3.98847966e-02]\n",
      " [ 2.35154847e-02 -4.85394936e-02  2.52316530e-02]\n",
      " [ 4.06234075e-02 -4.60140149e-02  5.70028381e-03]\n",
      " [ 6.19792626e-02 -5.07837115e-02 -1.07807233e-02]\n",
      " [ 3.95127493e-02  7.46597009e-03 -4.65252364e-02]\n",
      " [ 9.53733942e-02 -4.44322486e-02 -5.03231667e-02]\n",
      " [ 1.00401412e-01 -2.31641404e-02 -7.65317458e-02]\n",
      " [ 1.51138095e-01 -7.77085761e-02 -7.25953564e-02]\n",
      " [ 1.67087221e-01 -7.24825926e-02 -9.36672920e-02]\n",
      " [ 2.19442491e-01 -1.45265775e-01 -7.31529055e-02]\n",
      " [ 2.33137043e-01 -1.31012864e-01 -1.00984393e-01]\n",
      " [ 2.73089852e-01 -1.83863855e-01 -8.80126770e-02]\n",
      " [ 2.65391281e-01 -1.18195302e-01 -1.45841237e-01]\n",
      " [ 2.75743299e-01 -1.01246840e-01 -1.73036735e-01]\n",
      " [ 3.26561989e-01 -1.69206612e-01 -1.55804181e-01]\n",
      " [ 3.69490093e-01 -2.30570413e-01 -1.37302308e-01]\n",
      " [ 4.09208903e-01 -2.96054327e-01 -1.11500395e-01]\n",
      " [ 4.40995293e-01 -4.75027729e-01  3.53611500e-02]\n",
      " [ 4.58784603e-01 -3.23896124e-01 -1.33037224e-01]\n",
      " [ 4.60831823e-01 -2.62626664e-01 -1.96170726e-01]\n",
      " [ 5.11278587e-01 -3.64030809e-01 -1.45217724e-01]\n",
      " [ 5.38447131e-01 -3.88617690e-01 -1.47717547e-01]\n",
      " [ 5.76563352e-01 -5.26444586e-01 -4.81818240e-02]\n",
      " [ 5.66042138e-01 -3.35400958e-01 -2.28226898e-01]\n",
      " [ 6.28096555e-01 -5.66823324e-01 -5.91635073e-02]\n",
      " [ 6.52033319e-01 -6.18993319e-01 -3.09437226e-02]\n",
      " [ 6.73736485e-01 -6.69742422e-01 -1.91964421e-03]\n",
      " [ 7.05437533e-01 -6.22994762e-01 -8.00613165e-02]\n",
      " [ 7.26029671e-01 -7.08878927e-01 -1.48958413e-02]\n",
      " [ 7.54545567e-01 -6.08268761e-01 -1.43581503e-01]\n",
      " [ 7.74044256e-01 -7.71666629e-01 -3.23117701e-05]\n",
      " [ 7.95447475e-01 -8.12422259e-01  1.93246004e-02]\n",
      " [ 7.63721695e-01 -9.47138449e-01  1.85212712e-01]\n",
      " [ 8.51876688e-01 -8.34947419e-01 -1.43294329e-02]\n",
      " [ 7.46114648e-01 -1.05162528e+00  3.06915862e-01]\n",
      " [ 6.64557519e-01 -1.10942551e+00  4.45658485e-01]\n",
      " [ 9.34594564e-01 -8.61220018e-01 -7.03892932e-02]\n",
      " [ 7.84103481e-01 -1.15002030e+00  3.67256969e-01]\n",
      " [ 7.49450148e-01 -1.19426528e+00  4.45838875e-01]\n",
      " [ 8.96988637e-01 -1.16850906e+00  2.73435247e-01]\n",
      " [ 8.72891097e-01 -1.22611709e+00  3.54845526e-01]\n",
      " [ 8.36170333e-01 -1.27656996e+00  4.41673874e-01]\n",
      " [ 8.51363078e-01 -1.30718758e+00  4.57097215e-01]\n",
      " [ 8.43985084e-01 -1.34222521e+00  4.99373632e-01]\n",
      " [ 1.01411785e+00 -1.30652256e+00  2.94582585e-01]\n",
      " [ 5.39891103e-01 -1.35523689e+00  8.14755061e-01]\n",
      " [ 5.24132991e-01 -1.37340838e+00  8.48546250e-01]\n",
      " [ 8.71509428e-01 -1.46577383e+00  5.95204214e-01]\n",
      " [ 9.65481977e-01 -1.48493665e+00  5.20862305e-01]\n",
      " [ 5.47612955e-01 -1.45393324e+00  9.05495644e-01]\n",
      " [ 7.59966247e-01 -1.54194383e+00  7.82084716e-01]\n",
      " [ 5.64133474e-01 -1.50790888e+00  9.42891103e-01]\n",
      " [ 6.38263174e-01 -1.55947218e+00  9.20591525e-01]\n",
      " [ 3.37856058e-01 -1.44184450e+00  1.10203354e+00]\n",
      " [ 2.87882737e-01 -1.43395949e+00  1.14386661e+00]\n",
      " [ 6.24154515e-01 -1.62649727e+00  1.00145902e+00]\n",
      " [ 7.52633123e-01 -1.69435558e+00  9.41361497e-01]\n",
      " [ 7.65489784e-01 -1.72311255e+00  9.57252514e-01]\n",
      " [ 9.24721686e-02 -1.38771394e+00  1.29207676e+00]\n",
      " [ 5.72795164e-01 -1.69853889e+00  1.12437292e+00]\n",
      " [ 3.17759853e-01 -1.58348815e+00  1.26326466e+00]\n",
      " [ 2.88026647e-01 -1.58665097e+00  1.29598679e+00]\n",
      " [ 5.27847829e-02 -1.44348557e+00  1.38715911e+00]\n",
      " [ 5.93491329e-01 -1.80022291e+00  1.20519050e+00]\n",
      " [-1.60923320e-01 -1.31183224e+00  1.46839697e+00]\n",
      " [-3.43877000e-01 -1.16609143e+00  1.50500313e+00]\n",
      " [-2.69463499e-01 -1.25770819e+00  1.52236248e+00]\n",
      " [-2.04715710e-01 -1.33773504e+00  1.53777647e+00]\n",
      " [-4.21181597e-01 -1.15618420e+00  1.57199923e+00]\n",
      " [-6.01491066e-01 -9.91597385e-01  1.58718270e+00]\n",
      " [ 4.59687004e-01 -1.88766612e+00  1.42545019e+00]\n",
      " [-1.24277347e+00 -2.19595712e-01  1.45506914e+00]\n",
      " [-8.34085294e-01 -7.95966099e-01  1.62340332e+00]\n",
      " [-5.46531739e-01 -1.13937875e+00  1.67989535e+00]\n",
      " [-7.23116799e-01 -9.71262565e-01  1.68785560e+00]\n",
      " [-1.10844295e+00 -5.20360242e-01  1.62140527e+00]\n",
      " [-9.85087297e-01 -7.06631097e-01  1.68448276e+00]\n",
      " [-3.52040626e-01 -1.41880404e+00  1.76512539e+00]\n",
      " [-1.75754466e+00  4.71496256e-01  1.27782933e+00]\n",
      " [-1.23465749e+00 -4.50592354e-01  1.67734707e+00]\n",
      " [-1.64932874e+00  1.81421531e-01  1.45947530e+00]\n",
      " [-1.20392294e+00 -5.45382353e-01  1.74130729e+00]\n",
      " [-1.90470034e+00  6.30977174e-01  1.26513459e+00]\n",
      " [-1.67490240e+00  1.26446127e-01  1.53972827e+00]\n",
      " [-1.83252977e+00  3.90518938e-01  1.43314850e+00]\n",
      " [-1.42308817e+00 -3.41181102e-01  1.75562751e+00]\n",
      " [-2.08764377e+00  8.99123559e-01  1.17966823e+00]\n",
      " [-2.05211980e+00  7.53263107e-01  1.28979284e+00]\n",
      " [-2.21111687e+00  1.15839400e+00  1.04391266e+00]\n",
      " [-1.87877742e+00  2.96598845e-01  1.57279620e+00]\n",
      " [-1.99216186e+00  4.86018934e-01  1.49666243e+00]\n",
      " [-2.38409780e+00  1.90152047e+00  4.74890973e-01]\n",
      " [-1.98933215e+00  4.02888333e-01  1.57674591e+00]\n",
      " [-2.26651011e+00  1.00972933e+00  1.24724624e+00]\n",
      " [-2.45416943e+00  1.73191667e+00  7.13701891e-01]\n",
      " [-2.41155228e+00  1.35812392e+00  1.04406581e+00]\n",
      " [-2.49823904e+00  1.70173949e+00  7.87619458e-01]\n",
      " [-2.44942819e+00  1.34008645e+00  1.09971839e+00]\n",
      " [-2.55848243e+00  1.82542427e+00  7.24190555e-01]]\n",
      "predicted class: [2 2 2 1 1 1 1 1 1 1 1 1 1 1 1 1 1 1 1 1 1 1 1 1 1 1 1 1 1 1 1 1 1 1 1 1 0\n",
      " 0 1 1 1 1 1 0 0 0 0 0 0 0 0 0 0 0 0 0 0 0 0 0 0 0 0 0 0 0 0 0 0 0 0 0 0 0\n",
      " 0 0 0 0 0 0 0 0 0 0 2 2 2 0 0 2 0 2 2 2 2 2 2 2 2 2 2 2 2 2 2 2 2 2 2 2 2\n",
      " 2 2 2 2 2 2 2 2 2 2 2 2 2 2 2 2 2 2 2 2 2 2 2 2 2 2 2 1 2 2 1 1 1 1 1 1 1\n",
      " 1 1 1 1 1 1 1 1 1 1 1 1 1 1 1 1 1 1 1 1 1 1 1 1 1 1 1 1 1 1 1 1 1 1 1 1 1\n",
      " 1 1 1 1 0 1 1 1 1 0 1 0 0 0 0 2 2 2 0 0 0 0 0 0 0 0 0 0 0 0 0 0 0 0 0 0 0\n",
      " 0 0 0 0 0 0 0 0 0 0 0 0 0 0 0 0 0 0 0 0 0 0 0 0 2 2 0 0 2 2 2 2 2 2 2 2 2\n",
      " 2 2 2 2 2 2 2 2 2 2 2 2 2 2 2 2 2 2 2 2 2 2 2 2 2 2 2 2 2 2 1 2 2 1 2 2 1\n",
      " 1 1 1 1]\n",
      "Accuracy: 0.49\n"
     ]
    }
   ],
   "source": [
    "# Now evaluate the trained linear model\n",
    "evaluate_model(linear_model)"
   ]
  },
  {
   "cell_type": "markdown",
   "metadata": {
    "colab_type": "text",
    "id": "z_b6b1GyGmod"
   },
   "source": [
    "This is not a very good result (we are misclassifying around 50% of the data points, and these are data points that we've seen before!), lets visualise the decision boundary to determine what's going on."
   ]
  },
  {
   "cell_type": "markdown",
   "metadata": {
    "colab_type": "text",
    "id": "i00J82lT3iKt"
   },
   "source": [
    "### Visualizing the linear model's decision boundary\n",
    "\n",
    "Let's visualize the decision boundary of this linear classifier on the swiss roll dataset.\n"
   ]
  },
  {
   "cell_type": "code",
   "execution_count": 17,
   "metadata": {
    "colab": {
     "autoexec": {
      "startup": false,
      "wait_interval": 0
     }
    },
    "colab_type": "code",
    "id": "2qtWT9HYlwZ2"
   },
   "outputs": [],
   "source": [
    "# Define a function that plots the decision boundary of a model\n",
    "def plot_decision_boundary(X, model, render=True):\n",
    "    \"\"\"Overlays the classifier's decision boundary on the dataset [X, y].\n",
    "    \n",
    "    Args:\n",
    "        X: 2-d matrix input data,\n",
    "        model: The model to evaluate\n",
    "    \"\"\"\n",
    "    \n",
    "    step_size = 0.02    # Discretization step-size\n",
    "    \n",
    "    # Get the boundaries of the dataset.\n",
    "    x_min, x_max = X[:, 0].min() - 1, X[:, 0].max() + 1\n",
    "    y_min, y_max = X[:, 1].min() - 1, X[:, 1].max() + 1\n",
    "    # Generate a grid of points, step_size apart, over the above region.\n",
    "    xx, yy = np.meshgrid(np.arange(x_min, x_max, step_size),\n",
    "                                             np.arange(y_min, y_max, step_size))\n",
    "    \n",
    "    # Flatten the data and get the logits of the classifier (the \"scores\") for \n",
    "    #     each point in the generated mesh-grid.\n",
    "    meshgrid_matrix = np.c_[xx.ravel(), yy.ravel()]\n",
    "    Z = model.get_logits(meshgrid_matrix)\n",
    "    \n",
    "    # Get the class predictions for each point.\n",
    "    Z = np.argmax(Z, axis=1)\n",
    "    Z = Z.reshape(xx.shape)\n",
    "    \n",
    "    old_backend = plt.rcParams['backend']    # Save backend.\n",
    "    if not render:\n",
    "        plt.rcParams['backend'] = 'agg'\n",
    "\n",
    "    # Overlay both of these on one figure.\n",
    "    fig = plt.figure()\n",
    "    axes = plt.gca()\n",
    "\n",
    "    axes.contourf(xx, yy, Z, cmap=plt.cm.Spectral, alpha=0.8)\n",
    "    axes.scatter(X[:, 0], X[:, 1], c=y, s=40, cmap=plt.cm.Spectral)\n",
    "    \n",
    "    plt.xlim(xx.min(), xx.max())\n",
    "    plt.ylim(yy.min(), yy.max())\n",
    "    \n",
    "    if not render:\n",
    "        # Now we can save it to a numpy array.\n",
    "        fig.tight_layout(pad=0)\n",
    "        fig.canvas.draw()\n",
    "        data = np.fromstring(fig.canvas.tostring_rgb(), dtype=np.uint8, sep='')\n",
    "        data = data.reshape(fig.canvas.get_width_height()[::-1] + (3,))\n",
    "        # Restore old backend\n",
    "        plt.rcParams['backend'] = old_backend\n",
    "        \n",
    "        return data\n",
    "    \n",
    "    #fig.savefig('spiral_linear.png')"
   ]
  },
  {
   "cell_type": "code",
   "execution_count": 18,
   "metadata": {
    "colab": {
     "autoexec": {
      "startup": false,
      "wait_interval": 0
     }
    },
    "colab_type": "code",
    "id": "bgy6T0Gpz5Dn"
   },
   "outputs": [],
   "source": [
    "from matplotlib import animation\n",
    "from IPython.display import display\n",
    "from IPython.display import HTML\n",
    "\n",
    "def display_frames_as_gif(frames):\n",
    "        \"\"\"\n",
    "        Displays a list of frames as a gif.\n",
    "        \"\"\"\n",
    "        plt.figure(figsize=(frames[0].shape[1] / 72.0, frames[0].shape[0] / 72.0), dpi = 72)\n",
    "        patch = plt.imshow(frames[0])\n",
    "        #plt.axis('off')\n",
    "\n",
    "        def animate(i):\n",
    "                patch.set_data(frames[i])\n",
    "\n",
    "        anim = animation.FuncAnimation(plt.gcf(), animate, frames = len(frames), interval=50)\n",
    "        ##display(display_animation(anim, default_mode='loop'))\n",
    "        HTML(anim.to_html5_video())\n",
    "        # METHOD 2\n",
    "        #plt.rcParams['animation.html'] = 'html5'\n",
    "        #anim        \n",
    "        return anim\n",
    "\n",
    "#display_frames_as_gif(frames)"
   ]
  },
  {
   "cell_type": "code",
   "execution_count": 19,
   "metadata": {
    "colab": {
     "autoexec": {
      "startup": false,
      "wait_interval": 0
     },
     "height": 357,
     "output_extras": [
      {
       "item_id": 1
      }
     ]
    },
    "colab_type": "code",
    "executionInfo": {
     "elapsed": 362,
     "status": "ok",
     "timestamp": 1504368307657,
     "user": {
      "displayName": "Stephan Gouws",
      "photoUrl": "//lh4.googleusercontent.com/-6znVyM1oxdg/AAAAAAAAAAI/AAAAAAAAABI/vEPo2Ce7Rpc/s50-c-k-no/photo.jpg",
      "userId": "102606466886131565871"
     },
     "user_tz": -60
    },
    "id": "-oAjAAmp3mK-",
    "outputId": "1e173f1b-4e32-4acd-bab7-ece33962448f"
   },
   "outputs": [
    {
     "name": "stdout",
     "output_type": "stream",
     "text": [
      "iteration 0: loss 1.100447\n",
      "iteration 10: loss 0.918496\n",
      "iteration 20: loss 0.852024\n",
      "iteration 30: loss 0.822591\n",
      "iteration 40: loss 0.807724\n",
      "iteration 50: loss 0.799528\n",
      "iteration 60: loss 0.794729\n",
      "iteration 70: loss 0.791794\n",
      "iteration 80: loss 0.789940\n",
      "iteration 90: loss 0.788739\n",
      "iteration 100: loss 0.787946\n",
      "iteration 110: loss 0.787414\n",
      "iteration 120: loss 0.787053\n",
      "iteration 130: loss 0.786806\n",
      "iteration 140: loss 0.786634\n",
      "iteration 150: loss 0.786515\n",
      "iteration 160: loss 0.786432\n",
      "iteration 170: loss 0.786373\n",
      "iteration 180: loss 0.786332\n",
      "iteration 190: loss 0.786303\n"
     ]
    }
   ],
   "source": [
    "# Plot the decision boundary of our trained linear model on the dataset X\n",
    "# plot_decision_boundary(X, linear_model)\n",
    "\n",
    "# Create an instance of our LinearModel.\n",
    "reset_matplotlib()\n",
    "linear_model = LinearModel()\n",
    "\n",
    "train_model(linear_model, 200, 10)\n",
    "\n",
    "# For rendering animations.\n",
    "# frames = train_model(linear_model, 200, 10, \n",
    "#                                        plot_decision_boundary,\n",
    "#                                        {'X':X, 'model':linear_model, 'render':False})"
   ]
  },
  {
   "cell_type": "code",
   "execution_count": 20,
   "metadata": {
    "colab": {
     "autoexec": {
      "startup": false,
      "wait_interval": 0
     },
     "height": 494,
     "output_extras": [
      {
       "item_id": 1
      }
     ]
    },
    "colab_type": "code",
    "executionInfo": {
     "elapsed": 649,
     "status": "ok",
     "timestamp": 1504366521548,
     "user": {
      "displayName": "Stephan Gouws",
      "photoUrl": "//lh4.googleusercontent.com/-6znVyM1oxdg/AAAAAAAAAAI/AAAAAAAAABI/vEPo2Ce7Rpc/s50-c-k-no/photo.jpg",
      "userId": "102606466886131565871"
     },
     "user_tz": -60
    },
    "id": "sbEaMsUM_MRu",
    "outputId": "3ba645c8-c741-4a72-c5ca-6f4499e3c383"
   },
   "outputs": [
    {
     "data": {
      "image/png": "[encoded data removed]",
      "text/plain": [
       "<Figure size 720x576 with 1 Axes>"
      ]
     },
     "metadata": {},
     "output_type": "display_data"
    }
   ],
   "source": [
    "plot_decision_boundary(X, linear_model)\n",
    "\n",
    "# reset_matplot_lib()\n",
    "# anim = display_frames_as_gif(frames)"
   ]
  },
  {
   "cell_type": "markdown",
   "metadata": {
    "colab_type": "text",
    "id": "AjDp48EyGymu"
   },
   "source": [
    "What can you deduce from this decision boundary? Does it help explain why the linear model makes bad predictions? "
   ]
  },
  {
   "cell_type": "markdown",
   "metadata": {
    "colab_type": "text",
    "id": "69-CauTN3z5a"
   },
   "source": [
    "## Using a nonlinear model\n",
    "\n",
    "The linear model resulted in decision boundaries that were straight lines in 2D space. Using these straight lines, it is impossible to accurately separate our spiral-shaped data. We need a more complex model that can represent more complex (nonlinear) decision boundaries. Intuitively, we want a \"curved\" decision boundary that can adapt to the curved shape of the data. Let's see how converting our model to be a non-linear function of its parameters could resolve this. "
   ]
  },
  {
   "cell_type": "markdown",
   "metadata": {
    "colab_type": "text",
    "id": "0c6TUH9FZjUU"
   },
   "source": [
    "### Define the non-linear model\n",
    "We define this as a class with the same interface as the LinearModel. This way we can reuse exactly the same training and evaluation functions we defined earlier!\n",
    "\n",
    "**Forward pass**\n",
    "\n",
    "So far the logits (scores) were a linear function of the inputs ($\\Delta \\textrm{logits} = W*\\Delta \\textrm{inputs}$; put another way, a small change in inputs leads to a proportionally small change in outputs). We can make the model more powerful by making logits a non-linear function of inputs, e.g. $\\Delta\\textrm{logits} = W_2 * \\sigma(W * \\Delta \\textrm{inputs})$. Here, $\\sigma$ is a nonlinear function (non-linearity / **activation function**). There are many different types, but a popular choice is the **rectified linear unit (ReLU)**:\n",
    "\n",
    "$\\sigma_\\textrm{ReLU}(x) = \\max(0, x)$\n",
    "\n",
    "In code:"
   ]
  },
  {
   "cell_type": "code",
   "execution_count": 21,
   "metadata": {
    "colab": {
     "autoexec": {
      "startup": false,
      "wait_interval": 0
     }
    },
    "colab_type": "code",
    "id": "Lm4WKUbGZrs2"
   },
   "outputs": [],
   "source": [
    "def relu(value):\n",
    "    \"\"\" ReLU is the \"Rectified Linear Unit activation function\", defined as:\n",
    "                relu(x) = x if x > 0, and 0 if x <= 0\n",
    "    \"\"\"\n",
    "    return np.maximum(0, value)    "
   ]
  },
  {
   "cell_type": "markdown",
   "metadata": {
    "colab_type": "text",
    "id": "C9-uGQloclnO"
   },
   "source": [
    "**QUESTION**: Why does adding this \"non-linearity\" make the model more powerful? **HINT**: Think about the decision boundary of the linear model above, and convince yourself that adding a nonlinearity allows the model more freedom in how it structures its decision boundary."
   ]
  },
  {
   "cell_type": "markdown",
   "metadata": {
    "colab_type": "text",
    "id": "vOZd0ZxxD7Um"
   },
   "source": [
    "**Backward pass: Deriving the gradients** \n",
    "\n",
    "Our model has now changed a little, but notice that $W_2$ (which maps from the hidden layer to logits) is now doing the same thing as $W$ in our linear model, just on a transformed version of the inputs $z_2 = W_2h$, with the hidden layer activations $h = \\sigma_{ReLU}(z_1)$ and $z_1 = Wx + b$. \n",
    "\n",
    "So the good news is that the *mechanics* of computing the gradient wrt $W_2$ will be similar to how we derived $\\frac{\\partial E}{\\partial W}$ for the linear model above, but now we just need to replace 'input activations' $X$ with the 'hidden activations' $h$ (compare `derivative_loss_W2()` below with `derivative_loss_W()` in the linear model above). \n",
    "\n",
    "So all that's left is to compute $\\frac{\\partial E}{\\partial W}$, the gradients on $W$ (the input-to-hidden layer weights; omitting the biases for now). For this, we will again use the chain rule to derive \n",
    "\n",
    "$\\frac{\\partial E}{\\partial W} = \\frac{\\partial E}{\\partial z_2} \\frac{\\partial z_2}{\\partial z_1} \\frac{\\partial z_1}{\\partial W}$\n",
    "\n",
    "Convince yourself that this is again just an application of the [chain rule for derivatives](https://en.wikipedia.org/wiki/Chain_rule), but over a longer chain ($E\\rightarrow z_2 \\rightarrow z_1 \\rightarrow W$)!\n",
    "\n",
    "**NOTE**:\n",
    "* The gradient on input weights W is a product of three terms.\n",
    "* We already know the first term $\\frac{\\partial E}{\\partial z_2}$.\n",
    "\n",
    "**QUESTIONS**:\n",
    "* Compute: $\\frac{\\partial z_2}{\\partial z_1} = \\frac{\\partial W_2 h}{\\partial z_1} = \\frac{\\partial W_2 \\sigma_{ReLU}(z_1)}{\\partial z_1} = \\ldots$.  \n",
    "* Compute: $\\frac{\\partial z_1}{\\partial W}$. \n",
    "\n",
    "**ASIDE: What is happening here**:\n",
    "\n",
    "So far we have been manually deriving the gradients of the loss wrt to all model parameters. Notice that a specific pattern is emerging:\n",
    " \n",
    "* propagate activations forward through the network (\"make a prediction\"), \n",
    "* compute an error delta (\"see how far we're off\") , and \n",
    "* propagate errors backwards to update the weights (\"update the weights to do better next time\").\n",
    " \n",
    "Derivatives of the loss with respect to the inputs of a layer (e.g. $\\frac{\\partial E}{\\partial z}$) are referred to as (error) **delta**s.    For now we just need the gradients calculated above, but we will use this insight in the next practical when we show how this all forms part of a more general algorithm for efficiently computing gradients in deep neural networks (called **(error) back-propagation**).\n",
    "\n",
    "Let's implement this:\n"
   ]
  },
  {
   "cell_type": "code",
   "execution_count": 22,
   "metadata": {
    "colab": {
     "autoexec": {
      "startup": false,
      "wait_interval": 0
     }
    },
    "colab_type": "code",
    "id": "DwXofyX0dio1"
   },
   "outputs": [],
   "source": [
    "learning_rate = 1e-0    # How far along the gradient do we want to travel when doing \n",
    "                                            # gradient descent?\n",
    "reg_lambda = 1e-3    # Regularization strength\n",
    "num_hidden = 100    # Size of hidden layer.\n",
    "\n",
    "non_linear_W_init = 0.01 * np.random.randn(dimensions, num_hidden)\n",
    "non_linear_W2_init = 0.01 * np.random.randn(num_hidden, num_classes)\n"
   ]
  },
  {
   "cell_type": "code",
   "execution_count": 23,
   "metadata": {
    "colab": {
     "autoexec": {
      "startup": false,
      "wait_interval": 0
     }
    },
    "colab_type": "code",
    "id": "1HsSVOuQ37R0"
   },
   "outputs": [],
   "source": [
    "class NonLinearModel:\n",
    "    def __init__(self):\n",
    "        # Initialize the model parameters.\n",
    "        self.W = non_linear_W_init\n",
    "        self.b = np.zeros((1, num_hidden))\n",
    "        self.W2 = non_linear_W2_init\n",
    "        self.b2 = np.zeros((1, num_classes))\n",
    "\n",
    "    def predictions(self, X):\n",
    "        \"\"\"Make predictions of classes (y values) given some inputs (X).\"\"\"\n",
    "        # Evaluate class scores/\"logits\": [points_per_class*num_classes x num_classes].\n",
    "        logits = self.get_logits(X)\n",
    "\n",
    "        # Compute the class probabilities.\n",
    "        probs = softmax(logits)\n",
    "        \n",
    "        return probs\n",
    "    \n",
    "    def loss(self, probs, y):\n",
    "        \"\"\"Calculate the loss given model predictions and true targets.\"\"\"\n",
    "        data_loss = cross_entropy(probs, y)\n",
    "        regulariser = l2_loss([self.W, self.W2])\n",
    "        return data_loss + regulariser\n",
    "    \n",
    "    def update(self, probs, X, y):    \n",
    "        \"\"\"Update the model parameters using back-propagation and gradient descent.\"\"\"\n",
    "        hidden_output = self.hidden_layer(X)\n",
    "        \n",
    "        # Calculate the gradient of the loss with respect to logits\n",
    "        dlogits = self.derivative_loss_logits(probs, y)    \n",
    "        \n",
    "        # Backpropagate the gradient to the parameters.\n",
    "        \n",
    "        # We first backprop into parameters W2 and b2.\n",
    "        dW2 = self.derivative_loss_W2(hidden_output, dlogits)\n",
    "        db2 = self.derivative_loss_b2(dlogits)\n",
    "\n",
    "        # Next, backprop into the hidden layer.\n",
    "        dhidden = self.derivative_hidden(hidden_output, dlogits)\n",
    "\n",
    "        # Finally, backprop into W,b.\n",
    "        dW = self.derivative_loss_W(X, dhidden)\n",
    "        db = self.derivative_loss_b(dhidden)\n",
    "\n",
    "        # Add regularization gradient contribution.\n",
    "        dW2 += self.derivative_regularisation_W2()\n",
    "        dW += self.derivative_regularisation_W()\n",
    "\n",
    "        # Perform a parameter update (one step of gradient descent).\n",
    "        self.W += -learning_rate * dW\n",
    "        self.b += -learning_rate * db\n",
    "        self.W2 += -learning_rate * dW2\n",
    "        self.b2 += -learning_rate * db2\n",
    "        \n",
    "\n",
    "    ## DEFINE THE MODEL HELPER FUNCTIONS    \n",
    "    \n",
    "    def hidden_layer(self, X):\n",
    "        \"\"\"Calculate the output of the hidden layer.\"\"\"\n",
    "        # IMPLEMENT-ME: (8)\n",
    "        # HINT: Don't forget the activation function!\n",
    "        linear_out = np.dot(X, self.W) + self.b\n",
    "        hidden = relu(linear_out)\n",
    "        return hidden\n",
    "        \n",
    "    def get_logits(self, X):\n",
    "        \"\"\"Calculate the logits from the input data X.\"\"\"\n",
    "        hidden_output = self.hidden_layer(X)\n",
    "        # IMPLEMENT-ME: (9)\n",
    "        # HINT: Make sure you're using the correct parameters.\n",
    "        logits = np.dot(hidden_output, self.W2) + self.b2\n",
    "        return logits\n",
    "    \n",
    "    def derivative_loss_logits(self, logits, y):\n",
    "        \"\"\"Calculate the derivative of the loss with respect to logits.\"\"\"\n",
    "        num_examples = y.shape[0]\n",
    "        dlogits = logits\n",
    "        dlogits[range(num_examples),y] -= 1\n",
    "        dlogits /= num_examples\n",
    "        return dlogits\n",
    "    \n",
    "    def derivative_loss_W2(self, hidden_output, dlogits):\n",
    "        \"\"\"Calculate the derivative of the loss wrt W2.\"\"\"\n",
    "        # IMPLEMENT-ME: (10)\n",
    "        # dE/dW2 = dE/dz2 * dz2/dW2\n",
    "        dW2 = np.dot(hidden_output.T, dlogits)\n",
    "        return dW2\n",
    "    \n",
    "    def derivative_loss_b2(self, dlogits):\n",
    "        \"\"\"Calculate the derivative of the loss wrt b2.\"\"\"\n",
    "        # IMPLEMENT-ME: (11)\n",
    "        db2 = np.sum(dlogits, axis=0, keepdims=True)\n",
    "        return db2\n",
    "        \n",
    "    def derivative_hidden(self, hidden_output, dlogits):\n",
    "        \"\"\"Calculate the derivative of the loss wrt the hidden layer.\"\"\"\n",
    "        # Calculate the gradient as if the hidden layer were a normal linear layer.\n",
    "        # dE/dz1 = dE/dz2`` * dz2/dz1\n",
    "        # dz2/dz1 = (dE/dz2 * dz2/dW2 * dW2/dz1) \n",
    "        dhidden = np.dot(dlogits, self.W2.T)\n",
    "        \n",
    "        # Now take the Relu non-linearity into account\n",
    "        dhidden[hidden_output <= 0] = 0\n",
    "        \n",
    "        return dhidden\n",
    "        \n",
    "    def derivative_loss_W(self, X, dhidden):\n",
    "        \"\"\"Calculate the derivative of the loss wrt W.\"\"\"\n",
    "        # IMPLEMENT-ME: (12)\n",
    "        dW = np.dot(X.T, dhidden)\n",
    "        return dW\n",
    "    \n",
    "    def derivative_loss_b(self, dhidden):\n",
    "        \"\"\"Calculate the derivative of the loss wrt b.\"\"\"\n",
    "        # IMPLEMENT-ME: (13)\n",
    "        db = np.sum(dhidden, axis=0, keepdims=True)\n",
    "        return db\n",
    "    \n",
    "    def derivative_regularisation_W(self):\n",
    "        \"\"\"Calculate the gradient of the L2 loss wrt W.\"\"\"\n",
    "        return reg_lambda * self.W \n",
    "    \n",
    "    def derivative_regularisation_W2(self):\n",
    "        \"\"\"Calculate the gradient of the L2 loss wrt W2.\"\"\"\n",
    "        return reg_lambda * self.W2"
   ]
  },
  {
   "cell_type": "markdown",
   "metadata": {
    "colab_type": "text",
    "id": "f8tDrHHRFdcs"
   },
   "source": [
    "### Train the non linear model"
   ]
  },
  {
   "cell_type": "code",
   "execution_count": 24,
   "metadata": {
    "colab": {
     "autoexec": {
      "startup": false,
      "wait_interval": 0
     },
     "height": 187,
     "output_extras": [
      {
       "item_id": 10
      }
     ]
    },
    "colab_type": "code",
    "executionInfo": {
     "elapsed": 20243,
     "status": "ok",
     "timestamp": 1504366817848,
     "user": {
      "displayName": "Stephan Gouws",
      "photoUrl": "//lh4.googleusercontent.com/-6znVyM1oxdg/AAAAAAAAAAI/AAAAAAAAABI/vEPo2Ce7Rpc/s50-c-k-no/photo.jpg",
      "userId": "102606466886131565871"
     },
     "user_tz": -60
    },
    "id": "ntVMzdM8Fg9u",
    "outputId": "594e6c68-3dde-4c0c-8bfd-4618f96de913"
   },
   "outputs": [
    {
     "name": "stdout",
     "output_type": "stream",
     "text": [
      "iteration 0: loss 1.098706\n",
      "iteration 1000: loss 0.310401\n",
      "iteration 2000: loss 0.267694\n",
      "iteration 3000: loss 0.251009\n",
      "iteration 4000: loss 0.248204\n",
      "iteration 5000: loss 0.247433\n",
      "iteration 6000: loss 0.246922\n",
      "iteration 7000: loss 0.246430\n",
      "iteration 8000: loss 0.246248\n",
      "iteration 9000: loss 0.246120\n"
     ]
    }
   ],
   "source": [
    "# Create an instance of our non-linear model.\n",
    "non_linear_model = NonLinearModel()\n",
    "\n",
    "# Train the model for 10000 epochs\n",
    "train_model(non_linear_model, 10000, 1000)"
   ]
  },
  {
   "cell_type": "code",
   "execution_count": 25,
   "metadata": {
    "colab": {
     "autoexec": {
      "startup": false,
      "wait_interval": 0
     },
     "height": 34,
     "output_extras": [
      {
       "item_id": 1
      }
     ]
    },
    "colab_type": "code",
    "executionInfo": {
     "elapsed": 346,
     "status": "ok",
     "timestamp": 1504366820369,
     "user": {
      "displayName": "Stephan Gouws",
      "photoUrl": "//lh4.googleusercontent.com/-6znVyM1oxdg/AAAAAAAAAAI/AAAAAAAAABI/vEPo2Ce7Rpc/s50-c-k-no/photo.jpg",
      "userId": "102606466886131565871"
     },
     "user_tz": -60
    },
    "id": "eEseRPX_4C6g",
    "outputId": "231970ae-1c5c-4161-9d9e-06877954c02b"
   },
   "outputs": [
    {
     "name": "stdout",
     "output_type": "stream",
     "text": [
      "scores: [[ -0.10338573   0.04944466   0.05393959]\n",
      " [  0.01898376   0.0670627   -0.08604795]\n",
      " [  0.16472398   0.03613589  -0.20086138]\n",
      " [  0.33766095  -0.10440625  -0.23325625]\n",
      " [  0.48114996  -0.13542113  -0.3457304 ]\n",
      " [  0.45636482   0.22486913  -0.68123547]\n",
      " [  0.75143061  -0.13493074  -0.61650148]\n",
      " [  0.82386545   0.02901198  -0.85287902]\n",
      " [  0.98215615  -0.03617144  -0.94598634]\n",
      " [  1.18388608  -0.24538691  -0.93850085]\n",
      " [  1.32148343  -0.25846932  -1.06301581]\n",
      " [  1.53375728  -0.77404901  -0.75971008]\n",
      " [  1.67560162  -0.68385464  -0.9917488 ]\n",
      " [  1.801464    -0.57925992  -1.22220589]\n",
      " [  1.9750026   -0.84077913  -1.13422535]\n",
      " [  2.12601626  -0.94336612  -1.18265205]\n",
      " [  2.22100292  -1.57746678  -0.64353816]\n",
      " [  2.23092573  -1.00328221  -1.22764554]\n",
      " [  2.52975334  -1.37775542  -1.15199997]\n",
      " [  2.21760631  -0.93882682  -1.27878162]\n",
      " [  1.54706463  -0.1066022   -1.44046462]\n",
      " [  2.70885666  -1.88527101  -0.82358784]\n",
      " [  2.72510382  -2.12510159  -0.60000447]\n",
      " [  2.6832107   -1.4147704   -1.26844257]\n",
      " [  2.63422487  -2.37926037  -0.25496661]\n",
      " [  2.54533267  -1.19101377  -1.35432125]\n",
      " [  2.84990829  -1.85633239  -0.99357806]\n",
      " [  2.87955913  -1.73030548  -1.14925578]\n",
      " [  2.7313812   -1.95088529  -0.78049785]\n",
      " [  2.73896261  -1.88424918  -0.85471532]\n",
      " [  2.90147824  -1.47453355  -1.4269466 ]\n",
      " [  2.88263438  -1.45173588  -1.43090033]\n",
      " [  3.01219862  -1.13431121  -1.87788929]\n",
      " [  2.71304839  -0.96045886  -1.7525916 ]\n",
      " [  2.98421387  -1.0677572   -1.91645838]\n",
      " [  2.90887511  -1.18365464  -1.72522209]\n",
      " [  2.73304763  -1.65741615  -1.07563304]\n",
      " [  2.74944191  -1.62740983  -1.1220336 ]\n",
      " [  2.97602607  -0.87643221  -2.09959535]\n",
      " [  2.94788652  -0.89987647  -2.04801149]\n",
      " [  3.0629769   -0.53413251  -2.5288458 ]\n",
      " [  3.09156038  -0.32650305  -2.76505868]\n",
      " [  3.10430524  -0.15140878  -2.95289776]\n",
      " [  2.59094056  -2.32986076  -0.26108111]\n",
      " [  2.88022197  -0.60977447  -2.27044859]\n",
      " [  2.86925235  -0.63285971  -2.23639366]\n",
      " [  2.88472537  -0.14018752  -2.74453884]\n",
      " [  2.80462874  -1.74484717  -1.05978265]\n",
      " [  2.86738544   0.14109902  -3.00848534]\n",
      " [  2.80770471  -0.91924524  -1.88846035]\n",
      " [  2.81022813  -0.34730888  -2.46292004]\n",
      " [  2.7794011   -1.80152868  -0.97787336]\n",
      " [  2.77593659  -0.86893527  -1.90700208]\n",
      " [  2.77597939  -0.24933865  -2.5266414 ]\n",
      " [  2.75240124  -1.74487001  -1.00753208]\n",
      " [  2.26305217  -2.03320606  -0.2298469 ]\n",
      " [  2.59814399  -2.10946081  -0.48868399]\n",
      " [  2.37959579  -2.06714696  -0.3124494 ]\n",
      " [  2.71722376  -1.64685827  -1.07036621]\n",
      " [  2.63446229  -2.0553861   -0.57907686]\n",
      " [  2.70319086  -2.00264395  -0.70054761]\n",
      " [  2.94798707  -2.20508614  -0.74290126]\n",
      " [  3.04540044  -2.1423411   -0.9030598 ]\n",
      " [  2.67169442  -1.04220325  -1.62949164]\n",
      " [  3.49813663  -2.91241481  -0.58572151]\n",
      " [  3.61650712  -2.71027611  -0.90623078]\n",
      " [  3.50822277  -2.14998071  -1.35824238]\n",
      " [  3.80949936  -3.5849446   -0.22455403]\n",
      " [  4.08889127  -2.90947877  -1.17941209]\n",
      " [  4.1132424   -3.69019968  -0.42304189]\n",
      " [  3.85257831  -4.17321722   0.32063988]\n",
      " [  4.23060775  -4.05248893  -0.17811782]\n",
      " [  3.84527126  -4.55718472   0.7119144 ]\n",
      " [  4.84466342  -3.61031352  -1.23434899]\n",
      " [  4.39574425  -4.58293106   0.18718787]\n",
      " [  4.849472    -4.28050708  -0.56896372]\n",
      " [  4.99516814  -4.34657516  -0.64859174]\n",
      " [  5.09153723  -4.6249736   -0.46656239]\n",
      " [  5.06312547  -4.85645741  -0.20666684]\n",
      " [  4.81649914  -5.07272782   0.25622981]\n",
      " [  5.630765    -4.80946917  -0.82129447]\n",
      " [  3.84340207  -4.63383352   0.79043246]\n",
      " [  4.17898856  -5.16980115   0.99081358]\n",
      " [  6.0779311   -5.08256335  -0.99536631]\n",
      " [  4.08867255  -5.03683751   0.94816585]\n",
      " [  3.91854719  -5.20409163   1.28554518]\n",
      " [  4.37314143  -5.28257169   0.90943117]\n",
      " [  4.66497305  -4.93360621   0.26863434]\n",
      " [  5.53978738  -5.75229619   0.21251005]\n",
      " [  4.57357769  -5.66302959   1.08945273]\n",
      " [  5.1948401   -5.47806777   0.28322885]\n",
      " [  4.37317127  -5.81289325   1.43972266]\n",
      " [  5.21012298  -5.99917317   0.78905116]\n",
      " [  4.49868384  -5.99333184   1.49464865]\n",
      " [  5.09598063  -6.20847874   1.11249893]\n",
      " [  4.6333406   -6.17067758   1.53733762]\n",
      " [  5.34881284  -6.42705247   1.07824047]\n",
      " [  2.90580941  -4.69346821   1.78765913]\n",
      " [  5.04408926  -6.49770783   1.45361924]\n",
      " [  4.58310752  -6.23385007   1.6507431 ]\n",
      " [ -0.10338573   0.04944466   0.05393959]\n",
      " [ -0.25152707   0.10943435   0.14209128]\n",
      " [ -0.40081192   0.18528345   0.21552706]\n",
      " [ -0.50593578   0.42663613   0.07929829]\n",
      " [ -0.69768694   0.37587477   0.32181083]\n",
      " [ -0.66133233   0.77940915  -0.1180781 ]\n",
      " [ -0.95858768   0.70941313   0.2491733 ]\n",
      " [ -1.10868278   0.79879922   0.30988234]\n",
      " [ -0.89795218   1.26003734  -0.36208634]\n",
      " [ -1.04419039   1.3938812   -0.34969195]\n",
      " [ -1.01694447   1.58462873  -0.56768537]\n",
      " [ -1.29230778   1.67519511  -0.3828884 ]\n",
      " [ -1.71499591   1.55490998   0.1600849 ]\n",
      " [ -1.08543187   2.07213508  -0.98670425]\n",
      " [ -1.75546121   2.01244472  -0.25698446]\n",
      " [ -1.49457111   2.34758438  -0.85301421]\n",
      " [ -1.45598319   2.5255872   -1.06960494]\n",
      " [ -1.8435051    2.53713825  -0.69363401]\n",
      " [ -1.57410185   2.78895187  -1.21485088]\n",
      " [ -1.42983238   2.81697977  -1.3871483 ]\n",
      " [ -1.51906318   2.78365042  -1.2645881 ]\n",
      " [ -1.99175271   2.49611435  -0.50436244]\n",
      " [ -1.61201333   2.8014869   -1.18947451]\n",
      " [ -1.52696676   2.91877399  -1.39180848]\n",
      " [ -1.66256945   2.61114852  -0.94857991]\n",
      " [ -1.77735224   2.80403937  -1.02668815]\n",
      " [ -1.81139431   2.75349483  -0.94210154]\n",
      " [ -1.55546311   3.08647368  -1.53101222]\n",
      " [ -1.77554968   2.97086049  -1.19531226]\n",
      " [ -1.84367593   2.96557333  -1.12189886]\n",
      " [ -2.02264153   2.83410647  -0.81146614]\n",
      " [ -1.87170592   3.04705771  -1.17535344]\n",
      " [ -2.0871448    2.90357154  -0.81642814]\n",
      " [ -2.00612132   3.02129513  -1.0151755 ]\n",
      " [ -2.14830601   2.93445291  -0.78614849]\n",
      " [ -1.87015324   3.04326212  -1.17311095]\n",
      " [ -1.89248704   3.00923695  -1.11675204]\n",
      " [ -2.11081105   2.86391475  -0.75310573]\n",
      " [ -1.92328049   2.9505238   -1.02724561]\n",
      " [ -2.34583673   2.69582559  -0.34999083]\n",
      " [ -2.45026636   2.62100501  -0.17074059]\n",
      " [ -1.82206911   2.96103697  -1.13897046]\n",
      " [ -1.89538491   2.8951018   -0.99971954]\n",
      " [ -1.63840755   3.05443101  -1.41602627]\n",
      " [ -0.16606666   2.40938734  -2.24332387]\n",
      " [ -1.33267987   3.21374838  -1.88107153]\n",
      " [ -2.19365871   2.629508    -0.43585208]\n",
      " [ -0.85682644   2.81996163  -1.96313845]\n",
      " [ -2.28738919   2.53281715  -0.24543087]\n",
      " [ -1.80042966   2.84684982  -1.04642334]\n",
      " [ -1.49232272   3.05573107  -1.56341166]\n",
      " [ -0.30306125   2.80874345  -2.50568554]\n",
      " [ -1.71775303   2.86106888  -1.14331927]\n",
      " [ -1.67574197   2.87705112  -1.20131264]\n",
      " [ -1.11394057   3.01704953  -1.90311262]\n",
      " [ -1.50438677   3.2421381   -1.73775497]\n",
      " [ -0.58129832   3.2873452   -2.7060502 ]\n",
      " [ -1.62312364   3.28043212  -1.65731223]\n",
      " [ -1.58452117   3.31023885  -1.7257215 ]\n",
      " [ -1.11640914   3.30272242  -2.18631707]\n",
      " [ -1.17059215   3.43950266  -2.26891427]\n",
      " [  0.0195138    2.71215065  -2.73166717]\n",
      " [ -0.55283605   3.43357324  -2.88074023]\n",
      " [ -0.97782047   3.94829897  -2.97048181]\n",
      " [ -1.49291984   3.79563827  -2.30272228]\n",
      " [ -0.43689128   3.36310231  -2.9262139 ]\n",
      " [ -1.44047614   4.17240273  -2.7319302 ]\n",
      " [ -1.65743791   4.14970722  -2.49227311]\n",
      " [  0.05991596   3.47890095  -3.53881908]\n",
      " [ -0.56880713   3.58520367  -3.01639928]\n",
      " [  0.09833889   3.86255568  -3.96089653]\n",
      " [ -0.45755787   3.70475708  -3.24720161]\n",
      " [  0.40088945   4.37990273  -4.78079374]\n",
      " [ -0.97425826   4.1677029   -3.19344747]\n",
      " [ -1.13346838   4.40183974  -3.26837431]\n",
      " [  0.796134     5.07553972  -5.87167483]\n",
      " [ -0.94930803   4.30791425  -3.35860869]\n",
      " [ -0.61024375   4.72985017  -4.11960847]\n",
      " [ -0.1074297    5.22980634  -5.12237822]\n",
      " [  0.79078166   5.76389896  -6.5546815 ]\n",
      " [  0.48676949   5.84541199  -6.33218251]\n",
      " [ -0.72589386   5.42838788  -4.70249589]\n",
      " [  0.55124054   6.21199729  -6.7632387 ]\n",
      " [ -1.46117237   5.28219056  -3.82102056]\n",
      " [  2.74349726   6.55359689  -9.29709358]\n",
      " [ -0.15473028   6.48812032  -6.33339123]\n",
      " [  0.9088773    6.96835468  -7.87723241]\n",
      " [  2.69658159   7.01115564  -9.70773654]\n",
      " [  2.15773629   7.33546408  -9.49319998]\n",
      " [  2.54761822   6.31648703  -8.8641041 ]\n",
      " [  1.82424883   7.67006761  -9.49431611]\n",
      " [  2.61509739   7.2740317   -9.88912798]\n",
      " [  2.61961709   7.48216996 -10.10178593]\n",
      " [  2.62186329   7.95494787 -10.5768102 ]\n",
      " [  2.50958138   7.08098651  -9.59056649]\n",
      " [  2.5483422    7.67121311 -10.21955393]\n",
      " [  2.4429955    6.57969954  -9.02269351]\n",
      " [  2.41829502   6.34229383  -8.76058728]\n",
      " [  2.36757299   3.43329466  -5.80086639]\n",
      " [  2.3591026    4.93108114  -7.29018223]\n",
      " [ -0.10338573   0.04944466   0.05393959]\n",
      " [ -0.02089069  -0.105577     0.12646619]\n",
      " [ -0.02133196  -0.25497589   0.27630632]\n",
      " [  0.0403484   -0.41143408   0.37108412]\n",
      " [  0.06706251  -0.56081984   0.49375574]\n",
      " [  0.37681572  -0.71222363   0.33540626]\n",
      " [  0.19648469  -0.87446286   0.67797652]\n",
      " [  0.34488778  -1.03942405   0.69453458]\n",
      " [  0.13408855  -1.14384848   1.00975824]\n",
      " [  0.20981651  -1.30635408   1.09653585]\n",
      " [ -0.11242275  -1.31847525   1.43089632]\n",
      " [  0.01458184  -1.5146157    1.50003213]\n",
      " [ -0.21424541  -1.53946126   1.75370498]\n",
      " [  0.18200184  -1.85629009   1.67428645]\n",
      " [  0.31719542  -2.04034674   1.72314948]\n",
      " [  0.02287598  -2.06405583   2.04117804]\n",
      " [ -0.23386906  -2.01727787   2.25114517]\n",
      " [ -0.53936713  -1.95628003   2.49564545]\n",
      " [ -1.61418209  -1.24361389   2.85779451]\n",
      " [ -0.50014355  -1.98979778   2.48993966]\n",
      " [ -0.01145693  -2.11818277   2.129638  ]\n",
      " [ -0.50526487  -1.95769267   2.46295593]\n",
      " [ -0.53422884  -1.92896516   2.46319243]\n",
      " [ -1.3881713   -1.68721019   3.07538003]\n",
      " [  0.0517645   -2.05222076   2.00045468]\n",
      " [ -1.38258967  -1.65717483   3.0397631 ]\n",
      " [ -1.57309394  -1.65410335   3.22719592]\n",
      " [ -1.76685044  -1.65123619   3.41808529]\n",
      " [ -1.31250421  -1.64993336   2.96243626]\n",
      " [ -1.72652     -1.64631234   3.37283107]\n",
      " [ -0.95419264  -1.65350771   2.6076991 ]\n",
      " [ -1.68308594  -1.70651107   3.38959582]\n",
      " [ -1.57244704  -1.79799654   3.37044246]\n",
      " [ -1.83050498  -1.97071119   3.80121518]\n",
      " [ -1.22397396  -1.86409157   3.0880645 ]\n",
      " [ -1.81751839  -1.67301701   3.49053464]\n",
      " [ -2.09309662  -1.018603     3.11169904]\n",
      " [ -0.70864769  -1.94706837   2.65571516]\n",
      " [ -1.59043592  -1.76479754   3.35523288]\n",
      " [ -1.69202051  -1.45327323   3.14529329]\n",
      " [ -1.13141456  -2.50315126   3.6345652 ]\n",
      " [ -1.1809116   -2.24089155   3.42180267]\n",
      " [ -1.28574588  -1.90471558   3.19046112]\n",
      " [ -1.20180914  -1.9562675    3.15807636]\n",
      " [ -1.20325711  -1.84639135   3.04964825]\n",
      " [ -0.49403462  -2.89290665   3.38694091]\n",
      " [ -1.96819282  -0.7157554    2.68394813]\n",
      " [ -1.89226236  -0.81120486   2.70346716]\n",
      " [ -0.99756107  -1.82405126   2.82161238]\n",
      " [ -0.61247233  -2.4322905    3.04476285]\n",
      " [ -1.60055428  -1.18106743   2.78162174]\n",
      " [ -1.20911202  -1.25754821   2.46666044]\n",
      " [ -1.35901658  -1.41865024   2.7776669 ]\n",
      " [ -1.08529198  -1.54020452   2.62549664]\n",
      " [ -1.48943206  -1.23977543   2.72920751]\n",
      " [ -1.47864296  -1.22970668   2.70834966]\n",
      " [ -0.70364945  -1.87950307   2.58315268]\n",
      " [ -0.35065535  -1.98872192   2.33937754]\n",
      " [ -0.19133561  -2.10326277   2.29459867]\n",
      " [ -1.52449859  -1.11894729   2.64344586]\n",
      " [ -0.28497657  -2.30359828   2.58857501]\n",
      " [ -0.65785526  -1.90646356   2.5643189 ]\n",
      " [ -0.60656932  -1.93685138   2.54342078]\n",
      " [ -1.1615692   -1.39827224   2.55984144]\n",
      " [  0.28416728  -2.74925543   2.46508836]\n",
      " [ -1.679685    -0.90219142   2.58187634]\n",
      " [ -2.15816642  -0.46041965   2.61858579]\n",
      " [ -1.85725722  -0.72089096   2.57814804]\n",
      " [ -1.48482424  -1.04558736   2.53041152]\n",
      " [ -2.16246992  -0.68171528   2.84418485]\n",
      " [ -3.08494469  -0.42320591   3.5081498 ]\n",
      " [  0.92116579  -3.24019828   2.31903273]\n",
      " [ -4.03505748  -0.03739035   4.0724455 ]\n",
      " [ -3.45797842  -0.60347852   4.06145561]\n",
      " [ -2.39534113  -1.0288842    3.42422481]\n",
      " [ -3.36554435  -0.82143157   4.18697489]\n",
      " [ -3.90275457  -0.64348772   4.54624034]\n",
      " [ -3.7394679   -0.86021392   4.59968017]\n",
      " [ -0.88345018  -1.92431602   2.80776605]\n",
      " [ -4.80390798   0.44155719   4.36234725]\n",
      " [ -4.19818652  -0.86951908   5.06770339]\n",
      " [ -4.84494423  -0.10654269   4.95148371]\n",
      " [ -4.18880172  -1.10528634   5.29408594]\n",
      " [ -4.90912617   0.27823406   4.63088818]\n",
      " [ -4.96037435  -0.41067135   5.37104246]\n",
      " [ -5.18706501  -0.03157907   5.21864046]\n",
      " [ -4.63502568  -1.18733896   5.82236205]\n",
      " [ -4.86001618   0.20182702   4.65818473]\n",
      " [ -5.11103278   0.04669614   5.06433239]\n",
      " [ -4.62529725   0.29213676   4.33315565]\n",
      " [ -5.3913893   -0.56101769   5.95240332]\n",
      " [ -5.55488055  -0.29032009   5.84519669]\n",
      " [ -3.31836091   1.10710243   2.21125276]\n",
      " [ -5.61384072  -0.59013611   6.20397292]\n",
      " [ -5.20222585  -0.14753982   5.34976086]\n",
      " [ -4.00065248   0.58436152   3.41628526]\n",
      " [ -4.81364998   0.03797935   4.7756653 ]\n",
      " [ -4.23282517   0.39421261   3.83860682]\n",
      " [ -4.99285648  -0.11113185   5.10398296]\n",
      " [ -4.125552     0.43317392   3.69237214]]\n",
      "predicted class: [2 1 0 0 0 0 0 0 0 0 0 0 0 0 0 0 0 0 0 0 0 0 0 0 0 0 0 0 0 0 0 0 0 0 0 0 0\n",
      " 0 0 0 0 0 0 0 0 0 0 0 0 0 0 0 0 0 0 0 0 0 0 0 0 0 0 0 0 0 0 0 0 0 0 0 0 0\n",
      " 0 0 0 0 0 0 0 0 0 0 0 0 0 0 0 0 0 0 0 0 0 0 0 0 0 0 2 2 2 1 1 1 1 1 1 1 1\n",
      " 1 1 1 1 1 1 1 1 1 1 1 1 1 1 1 1 1 1 1 1 1 1 1 1 1 1 1 1 1 1 1 1 1 1 1 1 1\n",
      " 1 1 1 1 1 1 1 1 1 1 1 1 1 1 1 1 1 1 1 1 1 1 1 1 1 1 1 1 1 1 1 1 1 1 1 1 1\n",
      " 1 1 1 1 1 1 1 1 1 1 1 1 1 1 1 2 2 2 2 2 0 2 2 2 2 2 2 2 2 2 2 2 2 2 2 2 2\n",
      " 2 2 2 2 2 2 2 2 2 2 2 2 2 2 2 2 2 2 2 2 2 2 2 2 2 2 2 2 2 2 2 2 2 2 2 2 2\n",
      " 2 2 2 2 2 2 2 2 2 2 2 2 2 2 2 2 2 2 2 2 2 2 2 2 2 2 2 2 2 2 2 2 2 2 2 2 2\n",
      " 2 2 2 2]\n",
      "Accuracy: 0.98\n"
     ]
    }
   ],
   "source": [
    "# evaluate training set accuracy of the non-linear model\n",
    "evaluate_model(non_linear_model)"
   ]
  },
  {
   "cell_type": "markdown",
   "metadata": {
    "colab_type": "text",
    "id": "tmcEejSmIGLc"
   },
   "source": [
    "Much better! Is it possible to get to 100%? What factors about the dataset would influence this?"
   ]
  },
  {
   "cell_type": "markdown",
   "metadata": {
    "colab_type": "text",
    "id": "Fu5JRcMtYOms"
   },
   "source": [
    "### Visualize the nonlinear model's decision boundary\n",
    "Lets see what the decision boundary of the non-linear model looks like"
   ]
  },
  {
   "cell_type": "code",
   "execution_count": 26,
   "metadata": {
    "colab": {
     "autoexec": {
      "startup": false,
      "wait_interval": 0
     },
     "height": 494,
     "output_extras": [
      {
       "item_id": 1
      }
     ]
    },
    "colab_type": "code",
    "executionInfo": {
     "elapsed": 709,
     "status": "ok",
     "timestamp": 1504366824830,
     "user": {
      "displayName": "Stephan Gouws",
      "photoUrl": "//lh4.googleusercontent.com/-6znVyM1oxdg/AAAAAAAAAAI/AAAAAAAAABI/vEPo2Ce7Rpc/s50-c-k-no/photo.jpg",
      "userId": "102606466886131565871"
     },
     "user_tz": -60
    },
    "id": "gb3KwDN84P8z",
    "outputId": "8b577ed6-ef41-4360-fd79-fd01f585fd4c"
   },
   "outputs": [
    {
     "data": {
      "image/png": "[encoded data removed]",
      "text/plain": [
       "<Figure size 720x576 with 1 Axes>"
      ]
     },
     "metadata": {},
     "output_type": "display_data"
    }
   ],
   "source": [
    "# Plot the decision boundary of the non-linear model on the dataset X\n",
    "plot_decision_boundary(X, non_linear_model)"
   ]
  },
  {
   "cell_type": "markdown",
   "metadata": {
    "colab_type": "text",
    "id": "RsR2U3klH5SU"
   },
   "source": [
    "# Using TensorFlow\n",
    "\n",
    "The above models worked well, but it was a little tedius to implement the gradients by hand. TensorFlow (TF) is an open source software library for numerical computation using data flow graphs. Nodes in the graph represent mathematical operations, while the graph edges represent the multidimensional data arrays (tensors) communicated between them. Besides offering computational speedups due to efficient backends, one of the big advantages is also that TensorFlow can be used to automatically derive the gradients of any mathematical expressions. It achieve this through a process called \"[automatic differentiation](https://en.wikipedia.org/wiki/Automatic_differentiation)\". \n",
    "\n",
    "TF builds a **computational graph** (a DAG structure where nodes represent mathematical operations and data flows on the edges connecting them). The graph chains together all the mathematical operations in order. Given such a graph for a neural network with a loss function, TF can then automatically \"unroll\" it backwards to compute the gradients that we had to compute by hand above! \n",
    "\n",
    "**NOTE**: Chat to your neighbour and the tutors to make sure you understand (at least conceptually) how this graph formalism is different from e.g. Numpy's (imperative) formalism before moving on.\n",
    "\n",
    "**QUESTION**: What are the advantages and disadvantages of such a computational graph approach?\n",
    "\n",
    "Now let's re-implement the above models using TensorFlow and see how it compares."
   ]
  },
  {
   "cell_type": "markdown",
   "metadata": {
    "colab_type": "text",
    "id": "OGrFDQ1KGmv8"
   },
   "source": [
    "### Create a session\n",
    "\n",
    "TensorFlow makes use of \"[sessions](https://www.tensorflow.org/versions/r0.12/api_docs/python/client/session_management)\" to encapsulate the environment and manage the resources within which graphs are executed. Sessions are also used to run the graph operations you are interested in. There are different ways to create sessions, but for now we will make use of the [interactive session](https://www.tensorflow.org/versions/r0.12/api_docs/python/client/session_management#InteractiveSession), which sets a default environment that will be shared across all code cells, and avoids the need to explicitly pass around a reference to the current session object."
   ]
  },
  {
   "cell_type": "code",
   "execution_count": 28,
   "metadata": {
    "colab": {
     "autoexec": {
      "startup": false,
      "wait_interval": 0
     }
    },
    "colab_type": "code",
    "id": "COL_PqgMmx5Y"
   },
   "outputs": [],
   "source": [
    "# First we need to import TensorFlow.\n",
    "import tensorflow as tf\n",
    "\n",
    "tf.reset_default_graph() # Clear the graph between different invocations.\n",
    "sess = tf.InteractiveSession() # Create and register the default Session.\n"
   ]
  },
  {
   "cell_type": "markdown",
   "metadata": {
    "colab_type": "text",
    "id": "yiseUdITmzT0"
   },
   "source": [
    "### Define hyperparameters\n"
   ]
  },
  {
   "cell_type": "code",
   "execution_count": 29,
   "metadata": {
    "colab": {
     "autoexec": {
      "startup": false,
      "wait_interval": 0
     }
    },
    "colab_type": "code",
    "id": "MMTIs4bYKgCX"
   },
   "outputs": [],
   "source": [
    "### HYPERPARAMETERS\n",
    "learning_rate = 1e-0\n",
    "reg_lambda = 1e-3\n",
    "training_iterations = 200    # 'epochs'\n",
    "batch_size = X.shape[0]    # The whole dataset; i.e. batch gradient descent.\n",
    "display_step = 10    # How often should we print our results\n",
    "###\n",
    "\n",
    "# Network Parameters\n",
    "num_input = 2 # 2-dimensional input data\n",
    "num_classes = 3 # red, yellow and blue!"
   ]
  },
  {
   "cell_type": "markdown",
   "metadata": {
    "colab_type": "text",
    "id": "4NgyMmZeRtZX"
   },
   "source": [
    "### Graph input placeholders\n",
    "\n",
    "Graphs provide an abstract definition of what computations we want to perform on our data. TensorFlow provides [placeholders](https://www.tensorflow.org/api_docs/python/tf/placeholder) as a means for injecting data into our graph at execution time, through a process called \"feeding\"."
   ]
  },
  {
   "cell_type": "code",
   "execution_count": 30,
   "metadata": {
    "colab": {
     "autoexec": {
      "startup": false,
      "wait_interval": 0
     }
    },
    "colab_type": "code",
    "id": "9gDraGrsRw-4"
   },
   "outputs": [],
   "source": [
    "# placeholders for the inputs and labels. We will 'feed' these to the graph.\n",
    "# Note that using 'None' for a dimension means that TensorFlow will adapt to\n",
    "# whatever the size is of the input we feed in.\n",
    "x_tf = tf.placeholder(tf.float32, [None, num_input])\n",
    "y_tf = tf.placeholder(tf.int32, [None])"
   ]
  },
  {
   "cell_type": "markdown",
   "metadata": {
    "colab_type": "text",
    "id": "eyfHfdka9NKY"
   },
   "source": [
    "### Define helper functions\n",
    "Let's create some helper functions that we can re-use in the Tensorflow models. We need fewer than before because Tensorflow already provides lots of useful functions out the box! \n",
    "\n",
    "**Note**: TensorFlow has a built-in cross entropy function that is more numerically stable than our implementation, and should be used under normal circumstances."
   ]
  },
  {
   "cell_type": "code",
   "execution_count": 27,
   "metadata": {
    "colab": {
     "autoexec": {
      "startup": false,
      "wait_interval": 0
     }
    },
    "colab_type": "code",
    "id": "CRWJAimx9MXm"
   },
   "outputs": [],
   "source": [
    "def cross_entropy_tf(predictions, targets):\n",
    "    \"\"\"Calculate the cross entropy loss given some model predictions and target (true) values.\"\"\"\n",
    "    targets = tf.one_hot(targets, num_classes)\n",
    "    # IMPLEMENT-ME: (14)\n",
    "    # HINT: Have a look at the TensorFlow functions tf.log, tf.reduce_sum and tf.reduce_mean\n",
    "    cross_entropy = tf.reduce_mean(tf.reduce_sum(targets * -tf.log(predictions), axis=1))\n",
    "    return cross_entropy"
   ]
  },
  {
   "cell_type": "markdown",
   "metadata": {
    "colab_type": "text",
    "id": "YocWzSZFXMQL"
   },
   "source": [
    "## Linear model"
   ]
  },
  {
   "cell_type": "markdown",
   "metadata": {
    "colab_type": "text",
    "id": "YlhRC4-gWSUU"
   },
   "source": [
    "We construct a linear model with the same architecture as above. Notice how TensorFlow provides out-the-box many of the functions we had to previously define ourselves. There is another major difference between the TensorFlow code and Numpy code that may not be immediately apparant. In TensorFlow, when we call functions like tf.nn.softmax() we are not performing a computation, rather **we are defining an operation in the computation graph that gets run later** (when we feed in real data). \n",
    "\n",
    "**NOTE**:    This is called \"define-**and**-run\", and it is different from e.g. Numpy's \"define-**by**-run\" (imperative) approach. "
   ]
  },
  {
   "cell_type": "code",
   "execution_count": 32,
   "metadata": {
    "colab": {
     "autoexec": {
      "startup": false,
      "wait_interval": 0
     }
    },
    "colab_type": "code",
    "id": "UcS63poGGTYr"
   },
   "outputs": [],
   "source": [
    "class TFLinearModel(object):\n",
    "    def __init__(self):\n",
    "        # Initialise the variables\n",
    "        # Tensorflow variables can be updated automatically by optimisers.\n",
    "        self.W = tf.Variable(W_init, dtype=tf.float32)\n",
    "        self.b = tf.Variable(tf.zeros([num_classes]), dtype=tf.float32)\n",
    "\n",
    "    def predictions(self, X):\n",
    "        \"\"\"Make predictions of classes (y values) given some inputs (X).\"\"\"\n",
    "        logits = self.get_logits(X)\n",
    "\n",
    "        # Compute the class probabilities.\n",
    "        probs = tf.nn.softmax(logits)\n",
    "        \n",
    "        return probs\n",
    "    \n",
    "    def loss(self, probs, y):\n",
    "        \"\"\"Calculate the loss given model predictions and true targets.\"\"\"\n",
    "        data_loss = cross_entropy_tf(probs, y)\n",
    "        regulariser = reg_lambda * tf.nn.l2_loss(self.W)\n",
    "        return data_loss + regulariser\n",
    "        \n",
    "    def get_logits(self, X):\n",
    "        # An affine function.\n",
    "        \n",
    "        # IMPLEMENT-ME: (15)\n",
    "        # HINT: Have a look at the TensorFlow function tf.matmul \n",
    "        \n",
    "        logits = tf.add(tf.matmul(X, self.W), self.b)\n",
    "        return logits"
   ]
  },
  {
   "cell_type": "markdown",
   "metadata": {
    "colab_type": "text",
    "id": "tZMShhHyOYAq"
   },
   "source": [
    "![alt text](https://)Remember, up until now we've been defining (constructing) a computation graph. Now we can run this graph multiple times, feeding in our data, in a training loop. The training loop is a bit more complex than before, but by wrapping up our models in classes, we can again benefit from re-using the same training loop on multiple models."
   ]
  },
  {
   "cell_type": "code",
   "execution_count": 33,
   "metadata": {
    "colab": {
     "autoexec": {
      "startup": false,
      "wait_interval": 0
     }
    },
    "colab_type": "code",
    "id": "CLlW9MiUHutE"
   },
   "outputs": [],
   "source": [
    "def train_tf_model(tf_model, epochs, report_every):\n",
    "    \n",
    "    # Get the op which, when executed, will initialize the variables.\n",
    "    init = tf.global_variables_initializer()\n",
    "    \n",
    "    # Get the model probabilities\n",
    "    probs = tf_model.predictions(x_tf)\n",
    "    \n",
    "    # Get the model loss\n",
    "    loss = tf_model.loss(probs, y_tf)\n",
    "    \n",
    "    # Create a Gradient Descent optimizer using our own learning rate.\n",
    "    optimizer = tf.train.GradientDescentOptimizer(learning_rate=learning_rate)\n",
    "    \n",
    "    # Now we create an op that computes the gradient of the loss with respect \n",
    "    # to the model parameters and performs one update to all of the parameters \n",
    "    # in the direction of their gradients.\n",
    "    # NOTE: TensorFlow uses \"automatic differentiation\" to automatically derive \n",
    "    # the gradients of the loss wrt all trainable parameters for us! This is \n",
    "    # a huge saving as models get deeper and loss functions get more complex.\n",
    "    optimizer_step = optimizer.minimize(loss)\n",
    "    \n",
    "    # Actually initialize the variables (run the op).\n",
    "    sess.run(init)\n",
    "\n",
    "    # Training cycle.\n",
    "    for iteration in range(epochs):\n",
    "            avg_cost = 0.\n",
    "            total_batch = int(X.shape[0] / batch_size)\n",
    "\n",
    "            # Loop over all batches.\n",
    "            for i in range(total_batch):\n",
    "\n",
    "                    batch_x = X[i * batch_size : (i + 1) * batch_size, :]\n",
    "                    batch_y = y[i * batch_size : (i + 1) * batch_size]\n",
    "\n",
    "                    # Run optimization op (backprop) and cost op (to get loss value).\n",
    "                    _, c = sess.run([optimizer_step, loss], feed_dict={x_tf: batch_x,\n",
    "                                                                       y_tf: batch_y})\n",
    "                    # Compute average loss.\n",
    "                    avg_cost += c / total_batch\n",
    "\n",
    "            # Display logs per iteration/epoch step.\n",
    "            if iteration % report_every == 0:\n",
    "                    print(\"Iteration:\", '%04d' % (iteration + 1), \"cost=\", \\\n",
    "                            \"{:.9f}\".format(avg_cost))\n",
    "\n",
    "    print(\"Optimization Finished!\")"
   ]
  },
  {
   "cell_type": "code",
   "execution_count": 34,
   "metadata": {
    "colab": {
     "autoexec": {
      "startup": false,
      "wait_interval": 0
     },
     "height": 374,
     "output_extras": [
      {
       "item_id": 2
      }
     ]
    },
    "colab_type": "code",
    "executionInfo": {
     "elapsed": 546,
     "status": "ok",
     "timestamp": 1504357778404,
     "user": {
      "displayName": "Stephan Gouws",
      "photoUrl": "//lh4.googleusercontent.com/-6znVyM1oxdg/AAAAAAAAAAI/AAAAAAAAABI/vEPo2Ce7Rpc/s50-c-k-no/photo.jpg",
      "userId": "102606466886131565871"
     },
     "user_tz": -60
    },
    "id": "jQt4FzSbHvKq",
    "outputId": "1332f0e0-74f1-4540-f7a0-60dd6e8e7fff"
   },
   "outputs": [
    {
     "name": "stdout",
     "output_type": "stream",
     "text": [
      "Iteration: 0001 cost= 1.100446820\n",
      "Iteration: 0011 cost= 0.918495834\n",
      "Iteration: 0021 cost= 0.852024496\n",
      "Iteration: 0031 cost= 0.822591066\n",
      "Iteration: 0041 cost= 0.807723522\n",
      "Iteration: 0051 cost= 0.799528003\n",
      "Iteration: 0061 cost= 0.794729114\n",
      "Iteration: 0071 cost= 0.791794121\n",
      "Iteration: 0081 cost= 0.789939821\n",
      "Iteration: 0091 cost= 0.788739085\n",
      "Iteration: 0101 cost= 0.787945986\n",
      "Iteration: 0111 cost= 0.787414312\n",
      "Iteration: 0121 cost= 0.787053227\n",
      "Iteration: 0131 cost= 0.786805689\n",
      "Iteration: 0141 cost= 0.786634445\n",
      "Iteration: 0151 cost= 0.786515296\n",
      "Iteration: 0161 cost= 0.786431968\n",
      "Iteration: 0171 cost= 0.786373258\n",
      "Iteration: 0181 cost= 0.786331892\n",
      "Iteration: 0191 cost= 0.786302447\n",
      "Optimization Finished!\n"
     ]
    }
   ],
   "source": [
    "# Intialize our TensorFlow Linear Model\n",
    "tf_linear_model = TFLinearModel()\n",
    "\n",
    "# Train the model for 200 epochs\n",
    "train_tf_model(tf_linear_model, 200, 10)"
   ]
  },
  {
   "cell_type": "markdown",
   "metadata": {
    "colab_type": "text",
    "id": "Ltr_n567HPEj"
   },
   "source": [
    "**NOTE**: Our final cost (0.786) matches the final cost reached in our Numpy implementation above. This is not by accident, but because we used exactly the same initial values for the parameters, the same optimizer with the same update rules on the same data. (The exact value may be different if you changed some of the HyperParameters)\n",
    "\n",
    "Notice how much less code we had to write for the TensorFlow model compared to the Numpy one earlier! TensorFlow is designed for deep learning and provides a number of common functions. In fact, it's possible to define a linear model like this in even fewer lines in TensorFlow, but we wanted to make this example as clear as possible!"
   ]
  },
  {
   "cell_type": "markdown",
   "metadata": {
    "colab_type": "text",
    "id": "1OFoR4Oz8CNF"
   },
   "source": [
    "### Visualizing the linear model's decision boundary\n",
    "\n"
   ]
  },
  {
   "cell_type": "code",
   "execution_count": 35,
   "metadata": {
    "colab": {
     "autoexec": {
      "startup": false,
      "wait_interval": 0
     },
     "height": 494,
     "output_extras": [
      {
       "item_id": 1
      }
     ]
    },
    "colab_type": "code",
    "executionInfo": {
     "elapsed": 617,
     "status": "ok",
     "timestamp": 1504357803056,
     "user": {
      "displayName": "Stephan Gouws",
      "photoUrl": "//lh4.googleusercontent.com/-6znVyM1oxdg/AAAAAAAAAAI/AAAAAAAAABI/vEPo2Ce7Rpc/s50-c-k-no/photo.jpg",
      "userId": "102606466886131565871"
     },
     "user_tz": -60
    },
    "id": "i38AYE4F8Bal",
    "outputId": "1a6a9477-b88c-44d4-8146-7a14624a2e41"
   },
   "outputs": [
    {
     "data": {
      "image/png": "[encoded data removed]",
      "text/plain": [
       "<Figure size 720x576 with 1 Axes>"
      ]
     },
     "metadata": {},
     "output_type": "display_data"
    }
   ],
   "source": [
    "# Here we wrap the TensorFlow model so that it behaves more like a Numpy model \n",
    "# which the plot_decision_boundary function expects. Don't worry about \n",
    "# the details, it's just so we can visualise the decision boundary!\n",
    "\n",
    "class TFModelWrapper:\n",
    "    def __init__(self, model):\n",
    "        self._model = model\n",
    "    \n",
    "    def get_logits(self, x): \n",
    "        return tf.get_default_session().run(self._model.get_logits(x_tf),\n",
    "                                            feed_dict={x_tf : x,\n",
    "                                                       y_tf : np.zeros(x.shape[0])})\n",
    "    \n",
    "wrapper = TFModelWrapper(tf_linear_model)\n",
    "plot_decision_boundary(X, wrapper)"
   ]
  },
  {
   "cell_type": "markdown",
   "metadata": {
    "colab_type": "text",
    "id": "GRGbrnuyrNzh"
   },
   "source": [
    "## Using a nonlinear classifier\n",
    "\n",
    "Let's replicate the nonlinear model in TensorFlow. TensorFlow saves us from writing more code as the model becomes more complex. In particular, this is because we don't have to implement the derivatives ourselves!"
   ]
  },
  {
   "cell_type": "code",
   "execution_count": 36,
   "metadata": {
    "colab": {
     "autoexec": {
      "startup": false,
      "wait_interval": 0
     }
    },
    "colab_type": "code",
    "id": "LrNH71Jv31RB"
   },
   "outputs": [],
   "source": [
    "class TFNonLinearModel(object):\n",
    "    def __init__(self):\n",
    "        # Initialise the variables\n",
    "        # Tensorflow variables can be updated automatically by optimisers.\n",
    "        self.W = tf.Variable(non_linear_W_init, dtype=tf.float32)\n",
    "        self.b = tf.Variable(tf.zeros([num_hidden]), dtype=tf.float32)\n",
    "        self.W2 = tf.Variable(non_linear_W2_init, dtype=tf.float32)\n",
    "        self.b2 = tf.Variable(tf.zeros([num_classes]), dtype=tf.float32)\n",
    "\n",
    "    def predictions(self, X):\n",
    "        \"\"\"Make predictions of classes (y values) given some inputs (X).\"\"\"\n",
    "        logits = self.get_logits(X)\n",
    "\n",
    "        # Compute the class probabilities.\n",
    "        probs = tf.nn.softmax(logits)\n",
    "        \n",
    "        return probs\n",
    "    \n",
    "    def loss(self, probs, y):\n",
    "        \"\"\"Calculate the loss given model predictions and true targets.\"\"\"\n",
    "        data_loss = cross_entropy_tf(probs, y)\n",
    "        regulariser = reg_lambda * tf.nn.l2_loss(self.W) + reg_lambda * tf.nn.l2_loss(self.W2)\n",
    "        return data_loss + regulariser\n",
    "        \n",
    "    def get_logits(self, X):\n",
    "        hidden_output = self.hidden_layer(X)\n",
    "        logits = tf.add(tf.matmul(hidden_output, self.W2), self.b2)\n",
    "        return logits\n",
    "    \n",
    "    def hidden_layer(self, X):\n",
    "        # IMPLEMENT-ME: (16)\n",
    "        # HINT: Relu is available in TensorFlow using the function tf.nn.relu \n",
    "        # linear = self.predictions(X)\n",
    "        hidden = tf.add(tf.matmul(X, self.W), self.b)\n",
    "        return tf.nn.relu(hidden)"
   ]
  },
  {
   "cell_type": "code",
   "execution_count": 37,
   "metadata": {
    "colab": {
     "autoexec": {
      "startup": false,
      "wait_interval": 0
     },
     "height": 204,
     "output_extras": [
      {
       "item_id": 10
      }
     ]
    },
    "colab_type": "code",
    "executionInfo": {
     "elapsed": 14955,
     "status": "ok",
     "timestamp": 1504357823271,
     "user": {
      "displayName": "Stephan Gouws",
      "photoUrl": "//lh4.googleusercontent.com/-6znVyM1oxdg/AAAAAAAAAAI/AAAAAAAAABI/vEPo2Ce7Rpc/s50-c-k-no/photo.jpg",
      "userId": "102606466886131565871"
     },
     "user_tz": -60
    },
    "id": "RI0a_no65COO",
    "outputId": "0358b279-3689-4b7a-db8c-d440395b364f"
   },
   "outputs": [
    {
     "name": "stdout",
     "output_type": "stream",
     "text": [
      "Iteration: 0001 cost= 3.430856943\n",
      "Iteration: 1001 cost= 0.246243536\n",
      "Iteration: 2001 cost= 0.246070489\n",
      "Iteration: 3001 cost= 0.245953053\n",
      "Iteration: 4001 cost= 0.245857984\n",
      "Iteration: 5001 cost= 0.245799303\n",
      "Iteration: 6001 cost= 0.245744675\n",
      "Iteration: 7001 cost= 0.245695651\n",
      "Iteration: 8001 cost= 0.245657891\n",
      "Iteration: 9001 cost= 0.245633364\n",
      "Optimization Finished!\n"
     ]
    }
   ],
   "source": [
    "# Create an instance of the TensorFlow Non Linear model\n",
    "tf_non_linear_model = TFNonLinearModel()\n",
    "\n",
    "# Train it for 10000 epochs\n",
    "train_tf_model(tf_non_linear_model, 10000, 1000)"
   ]
  },
  {
   "cell_type": "markdown",
   "metadata": {
    "colab_type": "text",
    "id": "7CKPywnwrUWo"
   },
   "source": [
    "### Visualizing the nonlinear model's decision boundary"
   ]
  },
  {
   "cell_type": "code",
   "execution_count": 38,
   "metadata": {
    "colab": {
     "autoexec": {
      "startup": false,
      "wait_interval": 0
     },
     "height": 494,
     "output_extras": [
      {
       "item_id": 1
      }
     ]
    },
    "colab_type": "code",
    "executionInfo": {
     "elapsed": 636,
     "status": "ok",
     "timestamp": 1504357828658,
     "user": {
      "displayName": "Stephan Gouws",
      "photoUrl": "//lh4.googleusercontent.com/-6znVyM1oxdg/AAAAAAAAAAI/AAAAAAAAABI/vEPo2Ce7Rpc/s50-c-k-no/photo.jpg",
      "userId": "102606466886131565871"
     },
     "user_tz": -60
    },
    "id": "51oCM2Y_hh1b",
    "outputId": "7794e0ca-9ba5-44e5-87ff-849b67ceb03c"
   },
   "outputs": [
    {
     "data": {
      "image/png": "[encoded data removed]",
      "text/plain": [
       "<Figure size 720x576 with 1 Axes>"
      ]
     },
     "metadata": {},
     "output_type": "display_data"
    }
   ],
   "source": [
    "wrapper = TFModelWrapper(tf_non_linear_model)\n",
    "plot_decision_boundary(X, wrapper)"
   ]
  },
  {
   "cell_type": "markdown",
   "metadata": {
    "colab_type": "text",
    "id": "pY8YwfFVo51Y"
   },
   "source": [
    "This decision boundary should look very similar to the one obtained earlier, which is of course the goal. Congrats!"
   ]
  },
  {
   "cell_type": "markdown",
   "metadata": {
    "colab_type": "text",
    "id": "PLcdu8psoqLY"
   },
   "source": [
    "## EXTRA: The effect of regularization on the decision boundary\n",
    "\n",
    "Change the `l2_lambda` parameter and observe the effect it has on the decision boundary. \n",
    "\n",
    "**QUESTION**: Can you explain why this happens?\n"
   ]
  },
  {
   "cell_type": "code",
   "execution_count": 40,
   "metadata": {
    "colab": {
     "autoexec": {
      "startup": false,
      "wait_interval": 0
     },
     "height": 3422,
     "output_extras": [
      {
       "item_id": 60
      },
      {
       "item_id": 61
      },
      {
       "item_id": 62
      },
      {
       "item_id": 63
      },
      {
       "item_id": 64
      },
      {
       "item_id": 65
      }
     ]
    },
    "colab_type": "code",
    "executionInfo": {
     "elapsed": 99239,
     "status": "ok",
     "timestamp": 1504367163153,
     "user": {
      "displayName": "Stephan Gouws",
      "photoUrl": "//lh4.googleusercontent.com/-6znVyM1oxdg/AAAAAAAAAAI/AAAAAAAAABI/vEPo2Ce7Rpc/s50-c-k-no/photo.jpg",
      "userId": "102606466886131565871"
     },
     "user_tz": -60
    },
    "id": "t7WyzLseo62d",
    "outputId": "abaf5079-2c03-4156-b964-ead8db35332d"
   },
   "outputs": [
    {
     "name": "stdout",
     "output_type": "stream",
     "text": [
      "Setting reg_lambda to  0.0\n",
      "Iteration: 0001 cost= 3.294001102\n",
      "Iteration: 1001 cost= 0.045660038\n",
      "Iteration: 2001 cost= 0.034321796\n",
      "Iteration: 3001 cost= 0.029048892\n",
      "Iteration: 4001 cost= 0.025896495\n",
      "Iteration: 5001 cost= 0.023714896\n",
      "Iteration: 6001 cost= 0.022116344\n",
      "Iteration: 7001 cost= 0.020904178\n",
      "Iteration: 8001 cost= 0.019952804\n",
      "Iteration: 9001 cost= 0.019187300\n",
      "Optimization Finished!\n",
      "Setting reg_lambda to  0.0001\n",
      "Iteration: 0001 cost= 3.307686806\n",
      "Iteration: 1001 cost= 0.076685764\n",
      "Iteration: 2001 cost= 0.071805723\n",
      "Iteration: 3001 cost= 0.070404172\n",
      "Iteration: 4001 cost= 0.069816105\n",
      "Iteration: 5001 cost= 0.069517821\n",
      "Iteration: 6001 cost= 0.069387645\n",
      "Iteration: 7001 cost= 0.069318473\n",
      "Iteration: 8001 cost= 0.069280520\n",
      "Iteration: 9001 cost= 0.069253311\n",
      "Optimization Finished!\n",
      "Setting reg_lambda to  0.001\n",
      "Iteration: 0001 cost= 3.430856943\n",
      "Iteration: 1001 cost= 0.246243536\n",
      "Iteration: 2001 cost= 0.246070489\n",
      "Iteration: 3001 cost= 0.245953053\n",
      "Iteration: 4001 cost= 0.245857984\n",
      "Iteration: 5001 cost= 0.245799303\n",
      "Iteration: 6001 cost= 0.245744675\n",
      "Iteration: 7001 cost= 0.245695651\n",
      "Iteration: 8001 cost= 0.245657891\n",
      "Iteration: 9001 cost= 0.245633364\n",
      "Optimization Finished!\n",
      "Setting reg_lambda to  0.1\n",
      "Iteration: 0001 cost= 16.979595184\n",
      "Iteration: 1001 cost= 1.086608648\n",
      "Iteration: 2001 cost= 1.086589098\n",
      "Iteration: 3001 cost= 1.086581469\n",
      "Iteration: 4001 cost= 1.086577654\n",
      "Iteration: 5001 cost= 1.086576819\n",
      "Iteration: 6001 cost= 1.086574554\n",
      "Iteration: 7001 cost= 1.086573839\n",
      "Iteration: 8001 cost= 1.086573124\n",
      "Iteration: 9001 cost= 1.086573005\n",
      "Optimization Finished!\n",
      "Setting reg_lambda to  1.0\n",
      "Iteration: 0001 cost= 140.149932861\n",
      "Iteration: 1001 cost= 1.098611712\n",
      "Iteration: 2001 cost= 1.098612070\n",
      "Iteration: 3001 cost= 1.098611951\n",
      "Iteration: 4001 cost= 1.098611951\n",
      "Iteration: 5001 cost= 1.098611951\n",
      "Iteration: 6001 cost= 1.098612547\n",
      "Iteration: 7001 cost= 1.098611951\n",
      "Iteration: 8001 cost= 1.098611951\n",
      "Iteration: 9001 cost= 1.098611712\n",
      "Optimization Finished!\n"
     ]
    },
    {
     "data": {
      "image/png": "[encoded data removed]",
      "text/plain": [
       "<Figure size 720x576 with 1 Axes>"
      ]
     },
     "metadata": {},
     "output_type": "display_data"
    },
    {
     "data": {
      "image/png": "[encoded data removed]",
      "text/plain": [
       "<Figure size 720x576 with 1 Axes>"
      ]
     },
     "metadata": {},
     "output_type": "display_data"
    },
    {
     "data": {
      "image/png": "[encoded data removed]",
      "text/plain": [
       "<Figure size 720x576 with 1 Axes>"
      ]
     },
     "metadata": {},
     "output_type": "display_data"
    },
    {
     "data": {
      "image/png": "[encoded data removed]",
      "text/plain": [
       "<Figure size 720x576 with 1 Axes>"
      ]
     },
     "metadata": {},
     "output_type": "display_data"
    },
    {
     "data": {
      "image/png": "[encoded data removed]",
      "text/plain": [
       "<Figure size 720x576 with 1 Axes>"
      ]
     },
     "metadata": {},
     "output_type": "display_data"
    }
   ],
   "source": [
    "### CHANGE ME: \n",
    "### E.g. for reg_lambda = [0., 1e-4, 1e-3, 1e-1, 1.]:\n",
    "\n",
    "for v in [0., 1e-4, 1e-3, 1e-1, 1.]:\n",
    "    print(\"Setting reg_lambda to \", v)\n",
    "    reg_lambda = v\n",
    "    tf_non_linear_model = TFNonLinearModel()\n",
    "    train_tf_model(tf_non_linear_model, 10000, 1000)\n",
    "    wrapper = TFModelWrapper(tf_non_linear_model)\n",
    "    plot_decision_boundary(X, wrapper)"
   ]
  },
  {
   "cell_type": "markdown",
   "metadata": {
    "colab_type": "text",
    "id": "rAIL8rWa5iuA"
   },
   "source": [
    "# More resources\n",
    "\n",
    "* TensorFlow has a great website where you can play with different toy datasets, different model and training choices, and see how that affects model performance: http://playground.tensorflow.org/\n",
    "* deeplearn.js is a library for doing deep learning directly in the browser: https://pair-code.github.io/deeplearnjs/. Have a look at the \"Model Builder\" section and play around with training a few feedforward models on MNIST.\n"
   ]
  },
  {
   "cell_type": "markdown",
   "metadata": {
    "colab_type": "text",
    "id": "1v3S6TszbAln"
   },
   "source": [
    "# NB: Before you go (5min)\n",
    "\n",
    "Pair up with someone else and go through the questions in \"Learning Objectives\" at the top. Take turns explaining each of these to each other, and be sure to ask the tutors if you're both unsure!"
   ]
  },
  {
   "cell_type": "markdown",
   "metadata": {
    "colab_type": "text",
    "id": "qiseJLFuzyuM"
   },
   "source": [
    "# Acknowledgements\n",
    "\n",
    "* http://cs.stanford.edu/people/karpathy/cs231nfiles/minimal_net.html \n",
    "\n"
   ]
  },
  {
   "cell_type": "markdown",
   "metadata": {
    "colab_type": "text",
    "id": "B2hocuTT3XvV"
   },
   "source": [
    "# Feedback\n",
    "\n",
    "Please send any bugs and comments to dli-practicals@googlegroups.com."
   ]
  }
 ],
 "metadata": {
  "colab": {
   "default_view": {},
   "last_runtime": {
    "build_target": "//learning/deepmind/research/go/data:go_data_notebook",
    "kind": "shared"
   },
   "name": "Practical 1: Non-linearity, manual backprop and the value of autodiff (Solution)",
   "provenance": [],
   "version": "0.3.2",
   "views": {}
  },
  "kernelspec": {
   "display_name": "venv_deep_learning_p3",
   "language": "python",
   "name": "venv_deep_learning_p3"
  },
  "language_info": {
   "codemirror_mode": {
    "name": "ipython",
    "version": 3
   },
   "file_extension": ".py",
   "mimetype": "text/x-python",
   "name": "python",
   "nbconvert_exporter": "python",
   "pygments_lexer": "ipython3",
   "version": "3.6.5"
  }
 },
 "nbformat": 4,
 "nbformat_minor": 1
}
